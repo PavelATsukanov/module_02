{
 "cells": [
  {
   "cell_type": "code",
   "execution_count": 73,
   "metadata": {
    "_cell_guid": "b1076dfc-b9ad-4769-8c92-a6c4dae69d19",
    "_uuid": "8f2839f25d086af736a60e9eeb907d3b93b6e0e5",
    "colab": {},
    "colab_type": "code",
    "id": "U2D2gTdJVp90"
   },
   "outputs": [],
   "source": [
    "import numpy as np\n",
    "import pandas as pd\n",
    "import seaborn as sns\n",
    "import matplotlib.pyplot as plt\n",
    "from collections import Counter\n",
    "import itertools"
   ]
  },
  {
   "cell_type": "code",
   "execution_count": 28,
   "metadata": {
    "_cell_guid": "79c7e3d0-c299-4dcb-8224-4455121ee9b0",
    "_uuid": "d629ff2d2480ee46fbb7e2d37f6b5fab8052498a",
    "colab": {},
    "colab_type": "code",
    "id": "oyGfxL3eVp9-"
   },
   "outputs": [
    {
     "data": {
      "text/plain": [
       "1889"
      ]
     },
     "execution_count": 28,
     "metadata": {},
     "output_type": "execute_result"
    }
   ],
   "source": [
    "data = pd.read_csv('C:\\Python\\Millinaire\\movie_bd_v5.csv')\n",
    "data.sample(10)\n",
    "len(data)"
   ]
  },
  {
   "cell_type": "code",
   "execution_count": 23,
   "metadata": {
    "colab": {},
    "colab_type": "code",
    "id": "CoYUnagMVp-C"
   },
   "outputs": [
    {
     "data": {
      "text/html": [
       "<div>\n",
       "<style scoped>\n",
       "    .dataframe tbody tr th:only-of-type {\n",
       "        vertical-align: middle;\n",
       "    }\n",
       "\n",
       "    .dataframe tbody tr th {\n",
       "        vertical-align: top;\n",
       "    }\n",
       "\n",
       "    .dataframe thead th {\n",
       "        text-align: right;\n",
       "    }\n",
       "</style>\n",
       "<table border=\"1\" class=\"dataframe\">\n",
       "  <thead>\n",
       "    <tr style=\"text-align: right;\">\n",
       "      <th></th>\n",
       "      <th>budget</th>\n",
       "      <th>revenue</th>\n",
       "      <th>runtime</th>\n",
       "      <th>vote_average</th>\n",
       "      <th>release_year</th>\n",
       "    </tr>\n",
       "  </thead>\n",
       "  <tbody>\n",
       "    <tr>\n",
       "      <th>count</th>\n",
       "      <td>1.889000e+03</td>\n",
       "      <td>1.889000e+03</td>\n",
       "      <td>1889.000000</td>\n",
       "      <td>1889.000000</td>\n",
       "      <td>1889.000000</td>\n",
       "    </tr>\n",
       "    <tr>\n",
       "      <th>mean</th>\n",
       "      <td>5.431083e+07</td>\n",
       "      <td>1.553653e+08</td>\n",
       "      <td>109.658549</td>\n",
       "      <td>6.140762</td>\n",
       "      <td>2007.860773</td>\n",
       "    </tr>\n",
       "    <tr>\n",
       "      <th>std</th>\n",
       "      <td>4.858721e+07</td>\n",
       "      <td>2.146698e+08</td>\n",
       "      <td>18.017041</td>\n",
       "      <td>0.764763</td>\n",
       "      <td>4.468841</td>\n",
       "    </tr>\n",
       "    <tr>\n",
       "      <th>min</th>\n",
       "      <td>5.000000e+06</td>\n",
       "      <td>2.033165e+06</td>\n",
       "      <td>63.000000</td>\n",
       "      <td>3.300000</td>\n",
       "      <td>2000.000000</td>\n",
       "    </tr>\n",
       "    <tr>\n",
       "      <th>25%</th>\n",
       "      <td>2.000000e+07</td>\n",
       "      <td>3.456058e+07</td>\n",
       "      <td>97.000000</td>\n",
       "      <td>5.600000</td>\n",
       "      <td>2004.000000</td>\n",
       "    </tr>\n",
       "    <tr>\n",
       "      <th>50%</th>\n",
       "      <td>3.800000e+07</td>\n",
       "      <td>8.361541e+07</td>\n",
       "      <td>107.000000</td>\n",
       "      <td>6.100000</td>\n",
       "      <td>2008.000000</td>\n",
       "    </tr>\n",
       "    <tr>\n",
       "      <th>75%</th>\n",
       "      <td>7.200000e+07</td>\n",
       "      <td>1.782626e+08</td>\n",
       "      <td>120.000000</td>\n",
       "      <td>6.600000</td>\n",
       "      <td>2012.000000</td>\n",
       "    </tr>\n",
       "    <tr>\n",
       "      <th>max</th>\n",
       "      <td>3.800000e+08</td>\n",
       "      <td>2.781506e+09</td>\n",
       "      <td>214.000000</td>\n",
       "      <td>8.100000</td>\n",
       "      <td>2015.000000</td>\n",
       "    </tr>\n",
       "  </tbody>\n",
       "</table>\n",
       "</div>"
      ],
      "text/plain": [
       "             budget       revenue      runtime  vote_average  release_year\n",
       "count  1.889000e+03  1.889000e+03  1889.000000   1889.000000   1889.000000\n",
       "mean   5.431083e+07  1.553653e+08   109.658549      6.140762   2007.860773\n",
       "std    4.858721e+07  2.146698e+08    18.017041      0.764763      4.468841\n",
       "min    5.000000e+06  2.033165e+06    63.000000      3.300000   2000.000000\n",
       "25%    2.000000e+07  3.456058e+07    97.000000      5.600000   2004.000000\n",
       "50%    3.800000e+07  8.361541e+07   107.000000      6.100000   2008.000000\n",
       "75%    7.200000e+07  1.782626e+08   120.000000      6.600000   2012.000000\n",
       "max    3.800000e+08  2.781506e+09   214.000000      8.100000   2015.000000"
      ]
     },
     "execution_count": 23,
     "metadata": {},
     "output_type": "execute_result"
    }
   ],
   "source": [
    "data.describe()"
   ]
  },
  {
   "cell_type": "markdown",
   "metadata": {
    "colab_type": "text",
    "id": "DTIt7ezGVp-G"
   },
   "source": [
    "# Предобработка"
   ]
  },
  {
   "cell_type": "code",
   "execution_count": 39,
   "metadata": {
    "colab": {},
    "colab_type": "code",
    "id": "jNb40DwKVp-H"
   },
   "outputs": [],
   "source": [
    "# answers = {} # создадим словарь для ответов\n",
    "\n",
    "# тут другие ваши предобработки колонок например:\n",
    "\n",
    "#the time given in the dataset is in string format.\n",
    "#So we need to change this in datetime format\n",
    "# ...\n",
    "answers = {}"
   ]
  },
  {
   "cell_type": "markdown",
   "metadata": {
    "colab_type": "text",
    "id": "YxZaH-nPVp-L"
   },
   "source": [
    "# 1. У какого фильма из списка самый большой бюджет?"
   ]
  },
  {
   "cell_type": "markdown",
   "metadata": {
    "colab_type": "text",
    "id": "Nd-G5gX6Vp-M"
   },
   "source": [
    "Использовать варианты ответов в коде решения запрещено.    \n",
    "Вы думаете и в жизни у вас будут варианты ответов?)"
   ]
  },
  {
   "cell_type": "code",
   "execution_count": 0,
   "metadata": {
    "colab": {},
    "colab_type": "code",
    "id": "uVnXAY5RVp-O"
   },
   "outputs": [],
   "source": [
    "# в словарь вставляем номер вопроса и ваш ответ на него\n",
    "# Пример: \n",
    "answers['1'] = '2. Spider-Man 3 (tt0413300)'\n",
    "# запишите свой вариант ответа\n",
    "answers['1'] = '...'\n",
    "# если ответили верно, можете добавить комментарий со значком \"+\""
   ]
  },
  {
   "cell_type": "code",
   "execution_count": 6,
   "metadata": {
    "colab": {},
    "colab_type": "code",
    "id": "dZwb3m28Vp-S"
   },
   "outputs": [
    {
     "data": {
      "text/plain": [
       "imdb_id                                                         tt1298650\n",
       "budget                                                          380000000\n",
       "revenue                                                        1021683000\n",
       "original_title                Pirates of the Caribbean: On Stranger Tides\n",
       "cast                    Johnny Depp|PenÃ©lope Cruz|Geoffrey Rush|Ian M...\n",
       "director                                                     Rob Marshall\n",
       "tagline                                       Live Forever Or Die Trying.\n",
       "overview                Captain Jack Sparrow crosses paths with a woma...\n",
       "runtime                                                               136\n",
       "genres                                           Adventure|Action|Fantasy\n",
       "production_companies    Walt Disney Pictures|Jerry Bruckheimer Films|M...\n",
       "release_date                                                    5/11/2011\n",
       "vote_average                                                          6.3\n",
       "release_year                                                         2011\n",
       "Name: 723, dtype: object"
      ]
     },
     "metadata": {},
     "output_type": "display_data"
    }
   ],
   "source": [
    "s=data.loc[data['budget'].idxmax()]\n",
    "display(s)"
   ]
  },
  {
   "cell_type": "code",
   "execution_count": 41,
   "metadata": {},
   "outputs": [],
   "source": [
    "answers['1'] = 'irates of the Caribbean: On Stranger Tides'"
   ]
  },
  {
   "cell_type": "markdown",
   "metadata": {
    "colab_type": "text",
    "id": "K7L3nbRXVp-X"
   },
   "source": [
    "ВАРИАНТ 2"
   ]
  },
  {
   "cell_type": "code",
   "execution_count": 0,
   "metadata": {
    "colab": {},
    "colab_type": "code",
    "id": "OGaoQI7rVp-X"
   },
   "outputs": [],
   "source": [
    "# можно добавлять разные варианты решения"
   ]
  },
  {
   "cell_type": "markdown",
   "metadata": {
    "colab_type": "text",
    "id": "FNRbbI3vVp-c"
   },
   "source": [
    "# 2. Какой из фильмов самый длительный (в минутах)?"
   ]
  },
  {
   "cell_type": "code",
   "execution_count": 8,
   "metadata": {
    "colab": {},
    "colab_type": "code",
    "id": "vHAoEXNTVp-d"
   },
   "outputs": [
    {
     "ename": "NameError",
     "evalue": "name 'answers' is not defined",
     "output_type": "error",
     "traceback": [
      "\u001b[1;31m---------------------------------------------------------------------------\u001b[0m",
      "\u001b[1;31mNameError\u001b[0m                                 Traceback (most recent call last)",
      "\u001b[1;32m<ipython-input-8-8b75939fcd9e>\u001b[0m in \u001b[0;36m<module>\u001b[1;34m\u001b[0m\n\u001b[0;32m      1\u001b[0m \u001b[1;31m# думаю логику работы с этим словарем вы уже поняли,\u001b[0m\u001b[1;33m\u001b[0m\u001b[1;33m\u001b[0m\u001b[1;33m\u001b[0m\u001b[0m\n\u001b[0;32m      2\u001b[0m \u001b[1;31m# по этому не буду больше его дублировать\u001b[0m\u001b[1;33m\u001b[0m\u001b[1;33m\u001b[0m\u001b[1;33m\u001b[0m\u001b[0m\n\u001b[1;32m----> 3\u001b[1;33m \u001b[0manswers\u001b[0m\u001b[1;33m[\u001b[0m\u001b[1;34m'2'\u001b[0m\u001b[1;33m]\u001b[0m \u001b[1;33m=\u001b[0m \u001b[1;34m'...'\u001b[0m\u001b[1;33m\u001b[0m\u001b[1;33m\u001b[0m\u001b[0m\n\u001b[0m",
      "\u001b[1;31mNameError\u001b[0m: name 'answers' is not defined"
     ]
    }
   ],
   "source": [
    "# думаю логику работы с этим словарем вы уже поняли, \n",
    "# по этому не буду больше его дублировать\n",
    "answers['2'] = '...'"
   ]
  },
  {
   "cell_type": "code",
   "execution_count": 9,
   "metadata": {
    "colab": {},
    "colab_type": "code",
    "id": "ot-VX2XrVp-g"
   },
   "outputs": [
    {
     "data": {
      "text/plain": [
       "imdb_id                                                         tt0279111\n",
       "budget                                                           56000000\n",
       "revenue                                                          12923936\n",
       "original_title                                          Gods and Generals\n",
       "cast                    Stephen Lang|Jeff Daniels|Robert Duvall|Kevin ...\n",
       "director                                                Ronald F. Maxwell\n",
       "tagline                               The nations heart was touched by...\n",
       "overview                The film centers mostly around the personal an...\n",
       "runtime                                                               214\n",
       "genres                                                  Drama|History|War\n",
       "production_companies                   Turner Pictures|Antietam Filmworks\n",
       "release_date                                                    2/21/2003\n",
       "vote_average                                                          5.8\n",
       "release_year                                                         2003\n",
       "Name: 1157, dtype: object"
      ]
     },
     "metadata": {},
     "output_type": "display_data"
    }
   ],
   "source": [
    "d=data.loc[data['runtime'].idxmax()]\n",
    "display(d)"
   ]
  },
  {
   "cell_type": "code",
   "execution_count": 42,
   "metadata": {},
   "outputs": [],
   "source": [
    "answers['2'] = 'Gods and Generals'"
   ]
  },
  {
   "cell_type": "markdown",
   "metadata": {
    "colab_type": "text",
    "id": "bapLlpW8Vp-k"
   },
   "source": [
    "# 3. Какой из фильмов самый короткий (в минутах)?\n",
    "\n",
    "\n",
    "\n"
   ]
  },
  {
   "cell_type": "code",
   "execution_count": null,
   "metadata": {},
   "outputs": [],
   "source": []
  },
  {
   "cell_type": "code",
   "execution_count": 128,
   "metadata": {
    "colab": {},
    "colab_type": "code",
    "id": "YBxaSHuAVp-l"
   },
   "outputs": [
    {
     "data": {
      "text/plain": [
       "imdb_id                                                         tt1449283\n",
       "budget                                                           30000000\n",
       "revenue                                                          14460000\n",
       "original_title                                            Winnie the Pooh\n",
       "cast                    Jim Cummings|Travis Oates|Jim Cummings|Bud Luc...\n",
       "director                                        Stephen Anderson|Don Hall\n",
       "tagline                                                          Oh Pooh.\n",
       "overview                During an ordinary day in Hundred Acre Wood, W...\n",
       "runtime                                                                63\n",
       "genres                                                   Animation|Family\n",
       "production_companies    Walt Disney Pictures|Walt Disney Animation Stu...\n",
       "release_date                                                    4/13/2011\n",
       "vote_average                                                          6.8\n",
       "release_year                                                         2011\n",
       "Name: 768, dtype: object"
      ]
     },
     "metadata": {},
     "output_type": "display_data"
    }
   ],
   "source": [
    "d=data.loc[data['runtime'].idxmin()]\n",
    "display(d)\n"
   ]
  },
  {
   "cell_type": "code",
   "execution_count": 43,
   "metadata": {},
   "outputs": [],
   "source": [
    "answers['3'] = 'Winnie the Pooh'"
   ]
  },
  {
   "cell_type": "markdown",
   "metadata": {
    "colab_type": "text",
    "id": "TfQbxbfNVp-p"
   },
   "source": [
    "# 4. Какова средняя длительность фильмов?\n"
   ]
  },
  {
   "cell_type": "code",
   "execution_count": 10,
   "metadata": {
    "colab": {},
    "colab_type": "code",
    "id": "5K6dKZYVVp-q"
   },
   "outputs": [
    {
     "data": {
      "text/plain": [
       "109.6585494970884"
      ]
     },
     "metadata": {},
     "output_type": "display_data"
    }
   ],
   "source": [
    "d=data['runtime'].mean()\n",
    "display(d)"
   ]
  },
  {
   "cell_type": "code",
   "execution_count": 44,
   "metadata": {},
   "outputs": [],
   "source": [
    "answers['4'] = '109.6'"
   ]
  },
  {
   "cell_type": "markdown",
   "metadata": {
    "colab_type": "text",
    "id": "r5TvbnT_Vp-u"
   },
   "source": [
    "# 5. Каково медианное значение длительности фильмов? "
   ]
  },
  {
   "cell_type": "code",
   "execution_count": 12,
   "metadata": {
    "colab": {},
    "colab_type": "code",
    "id": "iBROplKnVp-v"
   },
   "outputs": [
    {
     "data": {
      "text/plain": [
       "107.0"
      ]
     },
     "metadata": {},
     "output_type": "display_data"
    }
   ],
   "source": [
    "d=data['runtime'].median()\n",
    "display(d)\n"
   ]
  },
  {
   "cell_type": "code",
   "execution_count": 45,
   "metadata": {},
   "outputs": [],
   "source": [
    "answers['5'] = '107.0'"
   ]
  },
  {
   "cell_type": "markdown",
   "metadata": {
    "colab_type": "text",
    "id": "39P-deDSVp-y"
   },
   "source": [
    "# 6. Какой самый прибыльный фильм?\n",
    "#### Внимание! Здесь и далее под «прибылью» или «убытками» понимается разность между сборами и бюджетом фильма. (прибыль = сборы - бюджет) в нашем датасете это будет (profit = revenue - budget) "
   ]
  },
  {
   "cell_type": "code",
   "execution_count": 13,
   "metadata": {
    "colab": {},
    "colab_type": "code",
    "id": "UYZh4T9WVp-y"
   },
   "outputs": [
    {
     "data": {
      "text/plain": [
       "imdb_id                                                         tt0499549\n",
       "budget                                                          237000000\n",
       "revenue                                                        2781505847\n",
       "original_title                                                     Avatar\n",
       "cast                    Sam Worthington|Zoe Saldana|Sigourney Weaver|S...\n",
       "director                                                    James Cameron\n",
       "tagline                                       Enter the World of Pandora.\n",
       "overview                In the 22nd century, a paraplegic Marine is di...\n",
       "runtime                                                               162\n",
       "genres                           Action|Adventure|Fantasy|Science Fiction\n",
       "production_companies    Ingenious Film Partners|Twentieth Century Fox ...\n",
       "release_date                                                   12/10/2009\n",
       "vote_average                                                          7.1\n",
       "release_year                                                         2009\n",
       "profit                                                         2544505847\n",
       "Name: 239, dtype: object"
      ]
     },
     "metadata": {},
     "output_type": "display_data"
    }
   ],
   "source": [
    "data['profit'] = data['revenue'] - data['budget']\n",
    "data1=data.loc[data['profit'].idxmax()]\n",
    "display(data1)"
   ]
  },
  {
   "cell_type": "code",
   "execution_count": 46,
   "metadata": {},
   "outputs": [],
   "source": [
    "answers['6'] = 'Avatar'"
   ]
  },
  {
   "cell_type": "markdown",
   "metadata": {
    "colab_type": "text",
    "id": "M99JmIX4Vp-2"
   },
   "source": [
    "# 7. Какой фильм самый убыточный? "
   ]
  },
  {
   "cell_type": "code",
   "execution_count": 14,
   "metadata": {
    "colab": {},
    "colab_type": "code",
    "id": "w-D2m4XPVp-3"
   },
   "outputs": [
    {
     "data": {
      "text/plain": [
       "imdb_id                                                         tt1210819\n",
       "budget                                                          255000000\n",
       "revenue                                                          89289910\n",
       "original_title                                            The Lone Ranger\n",
       "cast                    Johnny Depp|Armie Hammer|William Fichtner|Hele...\n",
       "director                                                   Gore Verbinski\n",
       "tagline                                           Never Take Off the Mask\n",
       "overview                The Texas Rangers chase down a gang of outlaws...\n",
       "runtime                                                               149\n",
       "genres                                           Action|Adventure|Western\n",
       "production_companies    Walt Disney Pictures|Jerry Bruckheimer Films|I...\n",
       "release_date                                                     7/3/2013\n",
       "vote_average                                                            6\n",
       "release_year                                                         2013\n",
       "profit                                                         -165710090\n",
       "Name: 1245, dtype: object"
      ]
     },
     "metadata": {},
     "output_type": "display_data"
    }
   ],
   "source": [
    "data['profit'] = data['revenue'] - data['budget']\n",
    "data1=data.loc[data['profit'].idxmin()]\n",
    "display(data1)"
   ]
  },
  {
   "cell_type": "code",
   "execution_count": 47,
   "metadata": {},
   "outputs": [],
   "source": [
    "answers['7'] = 'The Lone Ranger'"
   ]
  },
  {
   "cell_type": "markdown",
   "metadata": {
    "colab_type": "text",
    "id": "wEOM5ERVVp-6"
   },
   "source": [
    "# 8. У скольких фильмов из датасета объем сборов оказался выше бюджета?"
   ]
  },
  {
   "cell_type": "code",
   "execution_count": 15,
   "metadata": {
    "colab": {},
    "colab_type": "code",
    "id": "y00_7HD6Vp-7"
   },
   "outputs": [
    {
     "data": {
      "text/html": [
       "<div>\n",
       "<style scoped>\n",
       "    .dataframe tbody tr th:only-of-type {\n",
       "        vertical-align: middle;\n",
       "    }\n",
       "\n",
       "    .dataframe tbody tr th {\n",
       "        vertical-align: top;\n",
       "    }\n",
       "\n",
       "    .dataframe thead th {\n",
       "        text-align: right;\n",
       "    }\n",
       "</style>\n",
       "<table border=\"1\" class=\"dataframe\">\n",
       "  <thead>\n",
       "    <tr style=\"text-align: right;\">\n",
       "      <th></th>\n",
       "      <th>imdb_id</th>\n",
       "      <th>budget</th>\n",
       "      <th>revenue</th>\n",
       "      <th>original_title</th>\n",
       "      <th>cast</th>\n",
       "      <th>director</th>\n",
       "      <th>tagline</th>\n",
       "      <th>overview</th>\n",
       "      <th>runtime</th>\n",
       "      <th>genres</th>\n",
       "      <th>production_companies</th>\n",
       "      <th>release_date</th>\n",
       "      <th>vote_average</th>\n",
       "      <th>release_year</th>\n",
       "      <th>profit</th>\n",
       "    </tr>\n",
       "  </thead>\n",
       "  <tbody>\n",
       "    <tr>\n",
       "      <th>0</th>\n",
       "      <td>tt0369610</td>\n",
       "      <td>150000000</td>\n",
       "      <td>1513528810</td>\n",
       "      <td>Jurassic World</td>\n",
       "      <td>Chris Pratt|Bryce Dallas Howard|Irrfan Khan|Vi...</td>\n",
       "      <td>Colin Trevorrow</td>\n",
       "      <td>The park is open.</td>\n",
       "      <td>Twenty-two years after the events of Jurassic ...</td>\n",
       "      <td>124</td>\n",
       "      <td>Action|Adventure|Science Fiction|Thriller</td>\n",
       "      <td>Universal Studios|Amblin Entertainment|Legenda...</td>\n",
       "      <td>6/9/2015</td>\n",
       "      <td>6.5</td>\n",
       "      <td>2015</td>\n",
       "      <td>1363528810</td>\n",
       "    </tr>\n",
       "    <tr>\n",
       "      <th>1</th>\n",
       "      <td>tt1392190</td>\n",
       "      <td>150000000</td>\n",
       "      <td>378436354</td>\n",
       "      <td>Mad Max: Fury Road</td>\n",
       "      <td>Tom Hardy|Charlize Theron|Hugh Keays-Byrne|Nic...</td>\n",
       "      <td>George Miller</td>\n",
       "      <td>What a Lovely Day.</td>\n",
       "      <td>An apocalyptic story set in the furthest reach...</td>\n",
       "      <td>120</td>\n",
       "      <td>Action|Adventure|Science Fiction|Thriller</td>\n",
       "      <td>Village Roadshow Pictures|Kennedy Miller Produ...</td>\n",
       "      <td>5/13/2015</td>\n",
       "      <td>7.1</td>\n",
       "      <td>2015</td>\n",
       "      <td>228436354</td>\n",
       "    </tr>\n",
       "    <tr>\n",
       "      <th>2</th>\n",
       "      <td>tt2908446</td>\n",
       "      <td>110000000</td>\n",
       "      <td>295238201</td>\n",
       "      <td>Insurgent</td>\n",
       "      <td>Shailene Woodley|Theo James|Kate Winslet|Ansel...</td>\n",
       "      <td>Robert Schwentke</td>\n",
       "      <td>One Choice Can Destroy You</td>\n",
       "      <td>Beatrice Prior must confront her inner demons ...</td>\n",
       "      <td>119</td>\n",
       "      <td>Adventure|Science Fiction|Thriller</td>\n",
       "      <td>Summit Entertainment|Mandeville Films|Red Wago...</td>\n",
       "      <td>3/18/2015</td>\n",
       "      <td>6.3</td>\n",
       "      <td>2015</td>\n",
       "      <td>185238201</td>\n",
       "    </tr>\n",
       "    <tr>\n",
       "      <th>3</th>\n",
       "      <td>tt2488496</td>\n",
       "      <td>200000000</td>\n",
       "      <td>2068178225</td>\n",
       "      <td>Star Wars: The Force Awakens</td>\n",
       "      <td>Harrison Ford|Mark Hamill|Carrie Fisher|Adam D...</td>\n",
       "      <td>J.J. Abrams</td>\n",
       "      <td>Every generation has a story.</td>\n",
       "      <td>Thirty years after defeating the Galactic Empi...</td>\n",
       "      <td>136</td>\n",
       "      <td>Action|Adventure|Science Fiction|Fantasy</td>\n",
       "      <td>Lucasfilm|Truenorth Productions|Bad Robot</td>\n",
       "      <td>12/15/2015</td>\n",
       "      <td>7.5</td>\n",
       "      <td>2015</td>\n",
       "      <td>1868178225</td>\n",
       "    </tr>\n",
       "    <tr>\n",
       "      <th>4</th>\n",
       "      <td>tt2820852</td>\n",
       "      <td>190000000</td>\n",
       "      <td>1506249360</td>\n",
       "      <td>Furious 7</td>\n",
       "      <td>Vin Diesel|Paul Walker|Jason Statham|Michelle ...</td>\n",
       "      <td>James Wan</td>\n",
       "      <td>Vengeance Hits Home</td>\n",
       "      <td>Deckard Shaw seeks revenge against Dominic Tor...</td>\n",
       "      <td>137</td>\n",
       "      <td>Action|Crime|Thriller</td>\n",
       "      <td>Universal Pictures|Original Film|Media Rights ...</td>\n",
       "      <td>4/1/2015</td>\n",
       "      <td>7.3</td>\n",
       "      <td>2015</td>\n",
       "      <td>1316249360</td>\n",
       "    </tr>\n",
       "    <tr>\n",
       "      <th>...</th>\n",
       "      <td>...</td>\n",
       "      <td>...</td>\n",
       "      <td>...</td>\n",
       "      <td>...</td>\n",
       "      <td>...</td>\n",
       "      <td>...</td>\n",
       "      <td>...</td>\n",
       "      <td>...</td>\n",
       "      <td>...</td>\n",
       "      <td>...</td>\n",
       "      <td>...</td>\n",
       "      <td>...</td>\n",
       "      <td>...</td>\n",
       "      <td>...</td>\n",
       "      <td>...</td>\n",
       "    </tr>\n",
       "    <tr>\n",
       "      <th>1871</th>\n",
       "      <td>tt0171433</td>\n",
       "      <td>30000000</td>\n",
       "      <td>37036004</td>\n",
       "      <td>Keeping the Faith</td>\n",
       "      <td>Ben Stiller|Edward Norton|Jenna Elfman|Anne Ba...</td>\n",
       "      <td>Edward Norton</td>\n",
       "      <td>If you have to believe in something, you may a...</td>\n",
       "      <td>Best friends since they were kids, Rabbi Jacob...</td>\n",
       "      <td>127</td>\n",
       "      <td>Comedy</td>\n",
       "      <td>Spyglass Entertainment|Touchstone Pictures|Tri...</td>\n",
       "      <td>4/14/2000</td>\n",
       "      <td>5.7</td>\n",
       "      <td>2000</td>\n",
       "      <td>7036004</td>\n",
       "    </tr>\n",
       "    <tr>\n",
       "      <th>1875</th>\n",
       "      <td>tt0219854</td>\n",
       "      <td>65000000</td>\n",
       "      <td>69700000</td>\n",
       "      <td>The Kid</td>\n",
       "      <td>Bruce Willis|Spencer Breslin|Emily Mortimer|Li...</td>\n",
       "      <td>Jon Turteltaub</td>\n",
       "      <td>Nobody ever grows up quite like they imagined.</td>\n",
       "      <td>Powerful businessman Russ Duritz is self-absor...</td>\n",
       "      <td>104</td>\n",
       "      <td>Fantasy|Comedy|Family</td>\n",
       "      <td>Walt Disney Pictures</td>\n",
       "      <td>7/7/2000</td>\n",
       "      <td>5.9</td>\n",
       "      <td>2000</td>\n",
       "      <td>4700000</td>\n",
       "    </tr>\n",
       "    <tr>\n",
       "      <th>1877</th>\n",
       "      <td>tt0199725</td>\n",
       "      <td>20000000</td>\n",
       "      <td>27728118</td>\n",
       "      <td>Love &amp; Basketball</td>\n",
       "      <td>Chris Warren, Jr.|Kyla Pratt|Sanaa Lathan|Omar...</td>\n",
       "      <td>Gina Prince-Bythewood</td>\n",
       "      <td>All's fair in love and basketball.</td>\n",
       "      <td>A young African-American couple navigates the ...</td>\n",
       "      <td>124</td>\n",
       "      <td>Action|Comedy|Drama|Romance</td>\n",
       "      <td>40 Acres &amp; A Mule Filmworks</td>\n",
       "      <td>4/21/2000</td>\n",
       "      <td>7.3</td>\n",
       "      <td>2000</td>\n",
       "      <td>7728118</td>\n",
       "    </tr>\n",
       "    <tr>\n",
       "      <th>1883</th>\n",
       "      <td>tt0122459</td>\n",
       "      <td>24000000</td>\n",
       "      <td>36609995</td>\n",
       "      <td>Return to Me</td>\n",
       "      <td>David Duchovny|Minnie Driver|Carroll O'Connor|...</td>\n",
       "      <td>Bonnie Hunt</td>\n",
       "      <td>A comedy straight from the heart</td>\n",
       "      <td>It took a lot of cajoling to get Bob (Duchovny...</td>\n",
       "      <td>115</td>\n",
       "      <td>Romance|Comedy|Drama</td>\n",
       "      <td>Metro-Goldwyn-Mayer (MGM)|JLT Productions</td>\n",
       "      <td>4/7/2000</td>\n",
       "      <td>5.5</td>\n",
       "      <td>2000</td>\n",
       "      <td>12609995</td>\n",
       "    </tr>\n",
       "    <tr>\n",
       "      <th>1884</th>\n",
       "      <td>tt0120903</td>\n",
       "      <td>75000000</td>\n",
       "      <td>157299717</td>\n",
       "      <td>X-Men</td>\n",
       "      <td>Patrick Stewart|Hugh Jackman|Ian McKellen|Hall...</td>\n",
       "      <td>Bryan Singer</td>\n",
       "      <td>Evolution Begins</td>\n",
       "      <td>Two mutants, Rogue and Wolverine, come to a pr...</td>\n",
       "      <td>104</td>\n",
       "      <td>Adventure|Action|Science Fiction</td>\n",
       "      <td>Twentieth Century Fox Film Corporation|Donners...</td>\n",
       "      <td>7/13/2000</td>\n",
       "      <td>6.6</td>\n",
       "      <td>2000</td>\n",
       "      <td>82299717</td>\n",
       "    </tr>\n",
       "  </tbody>\n",
       "</table>\n",
       "<p>1478 rows × 15 columns</p>\n",
       "</div>"
      ],
      "text/plain": [
       "        imdb_id     budget     revenue                original_title  \\\n",
       "0     tt0369610  150000000  1513528810                Jurassic World   \n",
       "1     tt1392190  150000000   378436354            Mad Max: Fury Road   \n",
       "2     tt2908446  110000000   295238201                     Insurgent   \n",
       "3     tt2488496  200000000  2068178225  Star Wars: The Force Awakens   \n",
       "4     tt2820852  190000000  1506249360                     Furious 7   \n",
       "...         ...        ...         ...                           ...   \n",
       "1871  tt0171433   30000000    37036004             Keeping the Faith   \n",
       "1875  tt0219854   65000000    69700000                       The Kid   \n",
       "1877  tt0199725   20000000    27728118             Love & Basketball   \n",
       "1883  tt0122459   24000000    36609995                  Return to Me   \n",
       "1884  tt0120903   75000000   157299717                         X-Men   \n",
       "\n",
       "                                                   cast  \\\n",
       "0     Chris Pratt|Bryce Dallas Howard|Irrfan Khan|Vi...   \n",
       "1     Tom Hardy|Charlize Theron|Hugh Keays-Byrne|Nic...   \n",
       "2     Shailene Woodley|Theo James|Kate Winslet|Ansel...   \n",
       "3     Harrison Ford|Mark Hamill|Carrie Fisher|Adam D...   \n",
       "4     Vin Diesel|Paul Walker|Jason Statham|Michelle ...   \n",
       "...                                                 ...   \n",
       "1871  Ben Stiller|Edward Norton|Jenna Elfman|Anne Ba...   \n",
       "1875  Bruce Willis|Spencer Breslin|Emily Mortimer|Li...   \n",
       "1877  Chris Warren, Jr.|Kyla Pratt|Sanaa Lathan|Omar...   \n",
       "1883  David Duchovny|Minnie Driver|Carroll O'Connor|...   \n",
       "1884  Patrick Stewart|Hugh Jackman|Ian McKellen|Hall...   \n",
       "\n",
       "                   director  \\\n",
       "0           Colin Trevorrow   \n",
       "1             George Miller   \n",
       "2          Robert Schwentke   \n",
       "3               J.J. Abrams   \n",
       "4                 James Wan   \n",
       "...                     ...   \n",
       "1871          Edward Norton   \n",
       "1875         Jon Turteltaub   \n",
       "1877  Gina Prince-Bythewood   \n",
       "1883            Bonnie Hunt   \n",
       "1884           Bryan Singer   \n",
       "\n",
       "                                                tagline  \\\n",
       "0                                     The park is open.   \n",
       "1                                    What a Lovely Day.   \n",
       "2                            One Choice Can Destroy You   \n",
       "3                         Every generation has a story.   \n",
       "4                                   Vengeance Hits Home   \n",
       "...                                                 ...   \n",
       "1871  If you have to believe in something, you may a...   \n",
       "1875     Nobody ever grows up quite like they imagined.   \n",
       "1877                 All's fair in love and basketball.   \n",
       "1883                   A comedy straight from the heart   \n",
       "1884                                   Evolution Begins   \n",
       "\n",
       "                                               overview  runtime  \\\n",
       "0     Twenty-two years after the events of Jurassic ...      124   \n",
       "1     An apocalyptic story set in the furthest reach...      120   \n",
       "2     Beatrice Prior must confront her inner demons ...      119   \n",
       "3     Thirty years after defeating the Galactic Empi...      136   \n",
       "4     Deckard Shaw seeks revenge against Dominic Tor...      137   \n",
       "...                                                 ...      ...   \n",
       "1871  Best friends since they were kids, Rabbi Jacob...      127   \n",
       "1875  Powerful businessman Russ Duritz is self-absor...      104   \n",
       "1877  A young African-American couple navigates the ...      124   \n",
       "1883  It took a lot of cajoling to get Bob (Duchovny...      115   \n",
       "1884  Two mutants, Rogue and Wolverine, come to a pr...      104   \n",
       "\n",
       "                                         genres  \\\n",
       "0     Action|Adventure|Science Fiction|Thriller   \n",
       "1     Action|Adventure|Science Fiction|Thriller   \n",
       "2            Adventure|Science Fiction|Thriller   \n",
       "3      Action|Adventure|Science Fiction|Fantasy   \n",
       "4                         Action|Crime|Thriller   \n",
       "...                                         ...   \n",
       "1871                                     Comedy   \n",
       "1875                      Fantasy|Comedy|Family   \n",
       "1877                Action|Comedy|Drama|Romance   \n",
       "1883                       Romance|Comedy|Drama   \n",
       "1884           Adventure|Action|Science Fiction   \n",
       "\n",
       "                                   production_companies release_date  \\\n",
       "0     Universal Studios|Amblin Entertainment|Legenda...     6/9/2015   \n",
       "1     Village Roadshow Pictures|Kennedy Miller Produ...    5/13/2015   \n",
       "2     Summit Entertainment|Mandeville Films|Red Wago...    3/18/2015   \n",
       "3             Lucasfilm|Truenorth Productions|Bad Robot   12/15/2015   \n",
       "4     Universal Pictures|Original Film|Media Rights ...     4/1/2015   \n",
       "...                                                 ...          ...   \n",
       "1871  Spyglass Entertainment|Touchstone Pictures|Tri...    4/14/2000   \n",
       "1875                               Walt Disney Pictures     7/7/2000   \n",
       "1877                        40 Acres & A Mule Filmworks    4/21/2000   \n",
       "1883          Metro-Goldwyn-Mayer (MGM)|JLT Productions     4/7/2000   \n",
       "1884  Twentieth Century Fox Film Corporation|Donners...    7/13/2000   \n",
       "\n",
       "      vote_average  release_year      profit  \n",
       "0              6.5          2015  1363528810  \n",
       "1              7.1          2015   228436354  \n",
       "2              6.3          2015   185238201  \n",
       "3              7.5          2015  1868178225  \n",
       "4              7.3          2015  1316249360  \n",
       "...            ...           ...         ...  \n",
       "1871           5.7          2000     7036004  \n",
       "1875           5.9          2000     4700000  \n",
       "1877           7.3          2000     7728118  \n",
       "1883           5.5          2000    12609995  \n",
       "1884           6.6          2000    82299717  \n",
       "\n",
       "[1478 rows x 15 columns]"
      ]
     },
     "metadata": {},
     "output_type": "display_data"
    },
    {
     "data": {
      "text/plain": [
       "1478"
      ]
     },
     "execution_count": 15,
     "metadata": {},
     "output_type": "execute_result"
    }
   ],
   "source": [
    "data_more_nill = data[data['profit'] > 0]\n",
    "display(data_more_nill)\n",
    "len(data_more_nill)"
   ]
  },
  {
   "cell_type": "code",
   "execution_count": 48,
   "metadata": {},
   "outputs": [],
   "source": [
    "answers['8'] = '1478'"
   ]
  },
  {
   "cell_type": "markdown",
   "metadata": {
    "colab_type": "text",
    "id": "xhpspA9KVp_A"
   },
   "source": [
    "# 9. Какой фильм оказался самым кассовым в 2008 году?"
   ]
  },
  {
   "cell_type": "code",
   "execution_count": 11,
   "metadata": {
    "colab": {},
    "colab_type": "code",
    "id": "MoUyQr9RVp_B"
   },
   "outputs": [
    {
     "data": {
      "text/plain": [
       "imdb_id                                                         tt0468569\n",
       "budget                                                          185000000\n",
       "revenue                                                        1001921825\n",
       "original_title                                            The Dark Knight\n",
       "cast                    Christian Bale|Michael Caine|Heath Ledger|Aaro...\n",
       "director                                                Christopher Nolan\n",
       "tagline                                                   Why So Serious?\n",
       "overview                Batman raises the stakes in his war on crime. ...\n",
       "runtime                                                               152\n",
       "genres                                        Drama|Action|Crime|Thriller\n",
       "production_companies    DC Comics|Legendary Pictures|Warner Bros.|Syncopy\n",
       "release_date                                                    7/16/2008\n",
       "vote_average                                                          8.1\n",
       "release_year                                                         2008\n",
       "profit                                                          816921825\n",
       "Name: 599, dtype: object"
      ]
     },
     "metadata": {},
     "output_type": "display_data"
    }
   ],
   "source": [
    "data_2008 =data[data['release_year'] == 2008]\n",
    "data_2008max=data_2008.loc[data_2008['profit'].idxmax()]\n",
    "display(data_2008max)"
   ]
  },
  {
   "cell_type": "code",
   "execution_count": 49,
   "metadata": {},
   "outputs": [],
   "source": [
    "answers['9'] = 'The Dark Knight'"
   ]
  },
  {
   "cell_type": "markdown",
   "metadata": {
    "colab_type": "text",
    "id": "Zi4hDKidVp_F"
   },
   "source": [
    "# 10. Самый убыточный фильм за период с 2012 по 2014 г. (включительно)?\n"
   ]
  },
  {
   "cell_type": "code",
   "execution_count": 12,
   "metadata": {
    "colab": {},
    "colab_type": "code",
    "id": "XqyRmufJVp_F"
   },
   "outputs": [
    {
     "data": {
      "text/plain": [
       "imdb_id                                                         tt1210819\n",
       "budget                                                          255000000\n",
       "revenue                                                          89289910\n",
       "original_title                                            The Lone Ranger\n",
       "cast                    Johnny Depp|Armie Hammer|William Fichtner|Hele...\n",
       "director                                                   Gore Verbinski\n",
       "tagline                                           Never Take Off the Mask\n",
       "overview                The Texas Rangers chase down a gang of outlaws...\n",
       "runtime                                                               149\n",
       "genres                                           Action|Adventure|Western\n",
       "production_companies    Walt Disney Pictures|Jerry Bruckheimer Films|I...\n",
       "release_date                                                     7/3/2013\n",
       "vote_average                                                            6\n",
       "release_year                                                         2013\n",
       "profit                                                         -165710090\n",
       "Name: 1245, dtype: object"
      ]
     },
     "metadata": {},
     "output_type": "display_data"
    }
   ],
   "source": [
    "data_2012_14 =data[data['release_year'].isin(['2012','2013','2014'])]\n",
    "data_2012_14min=data_2012_14 .loc[data_2012_14 ['profit'].idxmin()]\n",
    "display(data_2012_14min)"
   ]
  },
  {
   "cell_type": "code",
   "execution_count": 50,
   "metadata": {},
   "outputs": [],
   "source": [
    "answers['10'] = 'The Lone Ranger'"
   ]
  },
  {
   "cell_type": "markdown",
   "metadata": {
    "colab_type": "text",
    "id": "EA7Sa9dkVp_I"
   },
   "source": [
    "# 11. Какого жанра фильмов больше всего?"
   ]
  },
  {
   "cell_type": "code",
   "execution_count": 0,
   "metadata": {
    "colab": {},
    "colab_type": "code",
    "id": "zsJAwJ8QVp_J"
   },
   "outputs": [],
   "source": [
    "# эту задачу тоже можно решать разными подходами, попробуй реализовать разные варианты\n",
    "# если будешь добавлять функцию - выноси ее в предобработку что в начале"
   ]
  },
  {
   "cell_type": "code",
   "execution_count": 13,
   "metadata": {},
   "outputs": [
    {
     "data": {
      "text/plain": [
       "'Drama'"
      ]
     },
     "execution_count": 13,
     "metadata": {},
     "output_type": "execute_result"
    }
   ],
   "source": [
    "data.genres.str.split('|').explode('genres').value_counts().idxmax()"
   ]
  },
  {
   "cell_type": "markdown",
   "metadata": {
    "colab_type": "text",
    "id": "Ax6g2C8SVp_M"
   },
   "source": [
    "ВАРИАНТ 2"
   ]
  },
  {
   "cell_type": "code",
   "execution_count": 51,
   "metadata": {
    "colab": {},
    "colab_type": "code",
    "id": "otO3SbrSVp_N"
   },
   "outputs": [],
   "source": [
    "answers['11'] = 'Drama'"
   ]
  },
  {
   "cell_type": "markdown",
   "metadata": {
    "colab_type": "text",
    "id": "T9_bPWpkVp_Q"
   },
   "source": [
    "# 12. Фильмы какого жанра чаще всего становятся прибыльными? "
   ]
  },
  {
   "cell_type": "code",
   "execution_count": 13,
   "metadata": {
    "colab": {},
    "colab_type": "code",
    "id": "Tmt8MaK1Vp_R"
   },
   "outputs": [
    {
     "ename": "NameError",
     "evalue": "name 'data_more_nill' is not defined",
     "output_type": "error",
     "traceback": [
      "\u001b[1;31m---------------------------------------------------------------------------\u001b[0m",
      "\u001b[1;31mNameError\u001b[0m                                 Traceback (most recent call last)",
      "\u001b[1;32m<ipython-input-13-1c94341a2222>\u001b[0m in \u001b[0;36m<module>\u001b[1;34m\u001b[0m\n\u001b[1;32m----> 1\u001b[1;33m \u001b[0mdata_more_nill\u001b[0m\u001b[1;33m[\u001b[0m\u001b[1;34m'genres'\u001b[0m\u001b[1;33m]\u001b[0m\u001b[1;33m.\u001b[0m\u001b[0mstr\u001b[0m\u001b[1;33m.\u001b[0m\u001b[0msplit\u001b[0m\u001b[1;33m(\u001b[0m\u001b[1;34m'|'\u001b[0m\u001b[1;33m)\u001b[0m\u001b[1;33m.\u001b[0m\u001b[0mexplode\u001b[0m\u001b[1;33m(\u001b[0m\u001b[1;33m)\u001b[0m\u001b[1;33m.\u001b[0m\u001b[0mvalue_counts\u001b[0m\u001b[1;33m(\u001b[0m\u001b[1;33m)\u001b[0m\u001b[1;33m.\u001b[0m\u001b[0midxmax\u001b[0m\u001b[1;33m(\u001b[0m\u001b[1;33m)\u001b[0m\u001b[1;33m\u001b[0m\u001b[1;33m\u001b[0m\u001b[0m\n\u001b[0m",
      "\u001b[1;31mNameError\u001b[0m: name 'data_more_nill' is not defined"
     ]
    }
   ],
   "source": [
    "data_more_nill['genres'].str.split('|').explode().value_counts().idxmax()"
   ]
  },
  {
   "cell_type": "code",
   "execution_count": 52,
   "metadata": {},
   "outputs": [],
   "source": [
    "answers['12'] = 'Drama'"
   ]
  },
  {
   "cell_type": "markdown",
   "metadata": {
    "colab_type": "text",
    "id": "0F23bgsDVp_U"
   },
   "source": [
    "# 13. У какого режиссера самые большие суммарные кассовые сборы?"
   ]
  },
  {
   "cell_type": "code",
   "execution_count": 14,
   "metadata": {
    "colab": {},
    "colab_type": "code",
    "id": "K6Z3J8ygVp_X"
   },
   "outputs": [
    {
     "name": "stdout",
     "output_type": "stream",
     "text": [
      "director\n",
      "Peter Jackson        6490593685\n",
      "Christopher Nolan    4167548502\n",
      "David Yates          4154295625\n",
      "Michael Bay          3886938960\n",
      "J.J. Abrams          3579169916\n",
      "                        ...    \n",
      "David MichÃ´d           2295423\n",
      "Steven Shainberg        2281089\n",
      "Paul Schrader           2062066\n",
      "Keanu Reeves            2054941\n",
      "Simon Hunter            2033165\n",
      "Name: revenue, Length: 957, dtype: int64\n"
     ]
    }
   ],
   "source": [
    "df = data.groupby(['director'])['revenue'].sum().sort_values(ascending=False)\n",
    "print(df)"
   ]
  },
  {
   "cell_type": "code",
   "execution_count": 53,
   "metadata": {},
   "outputs": [],
   "source": [
    "answers['13'] = 'Peter Jackson'"
   ]
  },
  {
   "cell_type": "markdown",
   "metadata": {
    "colab_type": "text",
    "id": "PsYC9FgRVp_a"
   },
   "source": [
    "# 14. Какой режисер снял больше всего фильмов в стиле Action?"
   ]
  },
  {
   "cell_type": "code",
   "execution_count": 15,
   "metadata": {
    "colab": {},
    "colab_type": "code",
    "id": "wd2M-wHeVp_b"
   },
   "outputs": [
    {
     "data": {
      "text/plain": [
       "'Robert Rodriguez'"
      ]
     },
     "execution_count": 15,
     "metadata": {},
     "output_type": "execute_result"
    }
   ],
   "source": [
    "data[data.genres.str.contains('Action')].director.str.split('|').explode('director').mode()[0]"
   ]
  },
  {
   "cell_type": "code",
   "execution_count": 54,
   "metadata": {},
   "outputs": [],
   "source": [
    "answers['14'] = 'Robert Rodriguez'"
   ]
  },
  {
   "cell_type": "markdown",
   "metadata": {
    "colab_type": "text",
    "id": "PQ0KciD7Vp_f"
   },
   "source": [
    "# 15. Фильмы с каким актером принесли самые высокие кассовые сборы в 2012 году? "
   ]
  },
  {
   "cell_type": "code",
   "execution_count": 16,
   "metadata": {
    "colab": {},
    "colab_type": "code",
    "id": "aga62oeKVp_g"
   },
   "outputs": [
    {
     "data": {
      "text/plain": [
       "'Robert Downey Jr.|Chris Evans|Mark Ruffalo|Chris Hemsworth|Scarlett Johansson'"
      ]
     },
     "metadata": {},
     "output_type": "display_data"
    }
   ],
   "source": [
    "data_2012 =data[data['release_year'] == 2012]\n",
    "data_2012max=data_2012.loc[data_2012['revenue'].idxmax()]\n",
    "display(data_2012max['cast'])"
   ]
  },
  {
   "cell_type": "code",
   "execution_count": 55,
   "metadata": {},
   "outputs": [],
   "source": [
    "answers['15'] = 'Chris Evans'"
   ]
  },
  {
   "cell_type": "markdown",
   "metadata": {
    "colab_type": "text",
    "id": "mWHyyL7QVp_j"
   },
   "source": [
    "# 16. Какой актер снялся в большем количестве высокобюджетных фильмов?"
   ]
  },
  {
   "cell_type": "code",
   "execution_count": 17,
   "metadata": {
    "colab": {},
    "colab_type": "code",
    "id": "qQtmHKTFVp_k"
   },
   "outputs": [
    {
     "data": {
      "text/plain": [
       "'Matt Damon'"
      ]
     },
     "execution_count": 17,
     "metadata": {},
     "output_type": "execute_result"
    }
   ],
   "source": [
    "data[data.budget>data.budget.mean()].cast.str.split('|').explode('cast').value_counts().idxmax()"
   ]
  },
  {
   "cell_type": "code",
   "execution_count": 56,
   "metadata": {},
   "outputs": [],
   "source": [
    "answers['16'] = 'Matt Damon'"
   ]
  },
  {
   "cell_type": "markdown",
   "metadata": {
    "colab_type": "text",
    "id": "NIh6AaW5Vp_n"
   },
   "source": [
    "# 17. В фильмах какого жанра больше всего снимался Nicolas Cage? "
   ]
  },
  {
   "cell_type": "code",
   "execution_count": 18,
   "metadata": {
    "colab": {},
    "colab_type": "code",
    "id": "H74SJDIBVp_n"
   },
   "outputs": [
    {
     "data": {
      "text/plain": [
       "'Action'"
      ]
     },
     "execution_count": 18,
     "metadata": {},
     "output_type": "execute_result"
    }
   ],
   "source": [
    "data[data.cast.str.contains('Nicolas Cage')]['genres'].str.split('|').explode().value_counts().idxmax()\n"
   ]
  },
  {
   "cell_type": "code",
   "execution_count": 57,
   "metadata": {},
   "outputs": [],
   "source": [
    "answers['17'] = 'Action'"
   ]
  },
  {
   "cell_type": "markdown",
   "metadata": {
    "colab_type": "text",
    "id": "RqOmPRfWVp_q"
   },
   "source": [
    "# 18. Самый убыточный фильм от Paramount Pictures"
   ]
  },
  {
   "cell_type": "code",
   "execution_count": 62,
   "metadata": {
    "colab": {},
    "colab_type": "code",
    "id": "9E_B0Y96Vp_r"
   },
   "outputs": [
    {
     "data": {
      "text/html": [
       "<div>\n",
       "<style scoped>\n",
       "    .dataframe tbody tr th:only-of-type {\n",
       "        vertical-align: middle;\n",
       "    }\n",
       "\n",
       "    .dataframe tbody tr th {\n",
       "        vertical-align: top;\n",
       "    }\n",
       "\n",
       "    .dataframe thead th {\n",
       "        text-align: right;\n",
       "    }\n",
       "</style>\n",
       "<table border=\"1\" class=\"dataframe\">\n",
       "  <thead>\n",
       "    <tr style=\"text-align: right;\">\n",
       "      <th></th>\n",
       "      <th>imdb_id</th>\n",
       "      <th>budget</th>\n",
       "      <th>revenue</th>\n",
       "      <th>original_title</th>\n",
       "      <th>cast</th>\n",
       "      <th>director</th>\n",
       "      <th>tagline</th>\n",
       "      <th>overview</th>\n",
       "      <th>runtime</th>\n",
       "      <th>genres</th>\n",
       "      <th>production_companies</th>\n",
       "      <th>release_date</th>\n",
       "      <th>vote_average</th>\n",
       "      <th>release_year</th>\n",
       "      <th>profit</th>\n",
       "    </tr>\n",
       "  </thead>\n",
       "  <tbody>\n",
       "    <tr>\n",
       "      <th>51</th>\n",
       "      <td>tt3045616</td>\n",
       "      <td>60000000</td>\n",
       "      <td>30418560</td>\n",
       "      <td>Mortdecai</td>\n",
       "      <td>Johnny Depp|Gwyneth Paltrow|Ewan McGregor|Paul...</td>\n",
       "      <td>David Koepp</td>\n",
       "      <td>Sophistication Has a Name.</td>\n",
       "      <td>Art dealer, Charles Mortdecai, searches for a ...</td>\n",
       "      <td>106</td>\n",
       "      <td>Comedy|Adventure</td>\n",
       "      <td>Lionsgate|Mad Chance|OddLot Entertainment|Huay...</td>\n",
       "      <td>1/21/2015</td>\n",
       "      <td>5.3</td>\n",
       "      <td>2015</td>\n",
       "      <td>-29581440</td>\n",
       "    </tr>\n",
       "    <tr>\n",
       "      <th>53</th>\n",
       "      <td>tt2717822</td>\n",
       "      <td>70000000</td>\n",
       "      <td>17752940</td>\n",
       "      <td>Blackhat</td>\n",
       "      <td>Chris Hemsworth|Leehom Wang|Tang Wei|Viola Dav...</td>\n",
       "      <td>Michael Mann</td>\n",
       "      <td>We are no longer in control.</td>\n",
       "      <td>A man is released from prison to help American...</td>\n",
       "      <td>133</td>\n",
       "      <td>Mystery|Crime|Action|Thriller|Drama</td>\n",
       "      <td>Universal Pictures|Forward Pass|Legendary Pict...</td>\n",
       "      <td>1/13/2015</td>\n",
       "      <td>5.0</td>\n",
       "      <td>2015</td>\n",
       "      <td>-52247060</td>\n",
       "    </tr>\n",
       "    <tr>\n",
       "      <th>59</th>\n",
       "      <td>tt1390411</td>\n",
       "      <td>100000000</td>\n",
       "      <td>93820758</td>\n",
       "      <td>In the Heart of the Sea</td>\n",
       "      <td>Chris Hemsworth|Benjamin Walker|Cillian Murphy...</td>\n",
       "      <td>Ron Howard</td>\n",
       "      <td>Based on the incredible true story that inspir...</td>\n",
       "      <td>In the winter of 1820, the New England whaling...</td>\n",
       "      <td>122</td>\n",
       "      <td>Thriller|Drama|Adventure|Action|History</td>\n",
       "      <td>Imagine Entertainment|Spring Creek Productions...</td>\n",
       "      <td>11/20/2015</td>\n",
       "      <td>6.4</td>\n",
       "      <td>2015</td>\n",
       "      <td>-6179242</td>\n",
       "    </tr>\n",
       "    <tr>\n",
       "      <th>64</th>\n",
       "      <td>tt3332064</td>\n",
       "      <td>150000000</td>\n",
       "      <td>128388320</td>\n",
       "      <td>Pan</td>\n",
       "      <td>Levi Miller|Garrett Hedlund|Hugh Jackman|Roone...</td>\n",
       "      <td>Joe Wright</td>\n",
       "      <td>Every legend has a beginning.</td>\n",
       "      <td>Living a bleak existence at a London orphanage...</td>\n",
       "      <td>111</td>\n",
       "      <td>Adventure|Family|Fantasy</td>\n",
       "      <td>Warner Bros.|Moving Picture Company (MPC)|Berl...</td>\n",
       "      <td>9/24/2015</td>\n",
       "      <td>5.9</td>\n",
       "      <td>2015</td>\n",
       "      <td>-21611680</td>\n",
       "    </tr>\n",
       "    <tr>\n",
       "      <th>74</th>\n",
       "      <td>tt1014763</td>\n",
       "      <td>50000000</td>\n",
       "      <td>3324330</td>\n",
       "      <td>Child 44</td>\n",
       "      <td>Tom Hardy|Gary Oldman|Noomi Rapace|Joel Kinnam...</td>\n",
       "      <td>Daniel Espinosa</td>\n",
       "      <td>How do you find a killer who doesnâ€™t exist?</td>\n",
       "      <td>Set in Stalin-era Soviet Union, a disgraced MG...</td>\n",
       "      <td>137</td>\n",
       "      <td>Crime|Thriller</td>\n",
       "      <td>Summit Entertainment|Scott Free Productions|Wo...</td>\n",
       "      <td>3/15/2015</td>\n",
       "      <td>5.9</td>\n",
       "      <td>2015</td>\n",
       "      <td>-46675670</td>\n",
       "    </tr>\n",
       "    <tr>\n",
       "      <th>...</th>\n",
       "      <td>...</td>\n",
       "      <td>...</td>\n",
       "      <td>...</td>\n",
       "      <td>...</td>\n",
       "      <td>...</td>\n",
       "      <td>...</td>\n",
       "      <td>...</td>\n",
       "      <td>...</td>\n",
       "      <td>...</td>\n",
       "      <td>...</td>\n",
       "      <td>...</td>\n",
       "      <td>...</td>\n",
       "      <td>...</td>\n",
       "      <td>...</td>\n",
       "      <td>...</td>\n",
       "    </tr>\n",
       "    <tr>\n",
       "      <th>1882</th>\n",
       "      <td>tt0217756</td>\n",
       "      <td>24000000</td>\n",
       "      <td>12372410</td>\n",
       "      <td>Ready to Rumble</td>\n",
       "      <td>David Arquette|Scott Caan|Oliver Platt|Rose Mc...</td>\n",
       "      <td>Brian Robbins</td>\n",
       "      <td>They're headed to the big time...face first.</td>\n",
       "      <td>Two slacker wrestling fans are devastated by t...</td>\n",
       "      <td>107</td>\n",
       "      <td>Action|Comedy|Drama</td>\n",
       "      <td>Bel Air Entertainment|Warner Bros.</td>\n",
       "      <td>4/7/2000</td>\n",
       "      <td>4.4</td>\n",
       "      <td>2000</td>\n",
       "      <td>-11627590</td>\n",
       "    </tr>\n",
       "    <tr>\n",
       "      <th>1885</th>\n",
       "      <td>tt0192255</td>\n",
       "      <td>22000000</td>\n",
       "      <td>13555988</td>\n",
       "      <td>The Little Vampire</td>\n",
       "      <td>Richard E. Grant|Jonathan Lipnicki|Jim Carter|...</td>\n",
       "      <td>Uli Edel</td>\n",
       "      <td>They're not just best friends, they're blood b...</td>\n",
       "      <td>Based on the popular books, the story tells of...</td>\n",
       "      <td>95</td>\n",
       "      <td>Horror|Family|Foreign</td>\n",
       "      <td>New Line Cinema</td>\n",
       "      <td>10/27/2000</td>\n",
       "      <td>6.4</td>\n",
       "      <td>2000</td>\n",
       "      <td>-8444012</td>\n",
       "    </tr>\n",
       "    <tr>\n",
       "      <th>1886</th>\n",
       "      <td>tt0131704</td>\n",
       "      <td>76000000</td>\n",
       "      <td>35134820</td>\n",
       "      <td>The Adventures of Rocky &amp; Bullwinkle</td>\n",
       "      <td>Rene Russo|Jason Alexander|Piper Perabo|Randy ...</td>\n",
       "      <td>Des McAnuff</td>\n",
       "      <td>This summer it's not the same old bull.</td>\n",
       "      <td>Rocky and Bullwinkle have been living off the ...</td>\n",
       "      <td>88</td>\n",
       "      <td>Adventure|Animation|Action|Comedy|Family</td>\n",
       "      <td>Universal Pictures|Capella International|KC Me...</td>\n",
       "      <td>6/30/2000</td>\n",
       "      <td>4.0</td>\n",
       "      <td>2000</td>\n",
       "      <td>-40865180</td>\n",
       "    </tr>\n",
       "    <tr>\n",
       "      <th>1887</th>\n",
       "      <td>tt0162983</td>\n",
       "      <td>40000000</td>\n",
       "      <td>36037909</td>\n",
       "      <td>Hanging Up</td>\n",
       "      <td>Meg Ryan|Diane Keaton|Lisa Kudrow|Walter Matth...</td>\n",
       "      <td>Diane Keaton</td>\n",
       "      <td>Every family has a few hang-ups.</td>\n",
       "      <td>A trio of sisters bond over their ambivalence ...</td>\n",
       "      <td>94</td>\n",
       "      <td>Comedy|Drama</td>\n",
       "      <td>Laurence Mark Productions|Columbia Pictures Co...</td>\n",
       "      <td>2/16/2000</td>\n",
       "      <td>5.2</td>\n",
       "      <td>2000</td>\n",
       "      <td>-3962091</td>\n",
       "    </tr>\n",
       "    <tr>\n",
       "      <th>1888</th>\n",
       "      <td>tt0163676</td>\n",
       "      <td>15000000</td>\n",
       "      <td>5217498</td>\n",
       "      <td>The In Crowd</td>\n",
       "      <td>Susan Ward|Lori Heuring|Matthew Settle|Nathan ...</td>\n",
       "      <td>Mary Lambert</td>\n",
       "      <td>What would you do to get in?</td>\n",
       "      <td>A mentally disturbed young woman takes a job a...</td>\n",
       "      <td>105</td>\n",
       "      <td>Thriller</td>\n",
       "      <td>Warner Bros. Pictures</td>\n",
       "      <td>7/19/2000</td>\n",
       "      <td>5.2</td>\n",
       "      <td>2000</td>\n",
       "      <td>-9782502</td>\n",
       "    </tr>\n",
       "  </tbody>\n",
       "</table>\n",
       "<p>411 rows × 15 columns</p>\n",
       "</div>"
      ],
      "text/plain": [
       "        imdb_id     budget    revenue                        original_title  \\\n",
       "51    tt3045616   60000000   30418560                             Mortdecai   \n",
       "53    tt2717822   70000000   17752940                              Blackhat   \n",
       "59    tt1390411  100000000   93820758               In the Heart of the Sea   \n",
       "64    tt3332064  150000000  128388320                                   Pan   \n",
       "74    tt1014763   50000000    3324330                              Child 44   \n",
       "...         ...        ...        ...                                   ...   \n",
       "1882  tt0217756   24000000   12372410                       Ready to Rumble   \n",
       "1885  tt0192255   22000000   13555988                    The Little Vampire   \n",
       "1886  tt0131704   76000000   35134820  The Adventures of Rocky & Bullwinkle   \n",
       "1887  tt0162983   40000000   36037909                            Hanging Up   \n",
       "1888  tt0163676   15000000    5217498                          The In Crowd   \n",
       "\n",
       "                                                   cast         director  \\\n",
       "51    Johnny Depp|Gwyneth Paltrow|Ewan McGregor|Paul...      David Koepp   \n",
       "53    Chris Hemsworth|Leehom Wang|Tang Wei|Viola Dav...     Michael Mann   \n",
       "59    Chris Hemsworth|Benjamin Walker|Cillian Murphy...       Ron Howard   \n",
       "64    Levi Miller|Garrett Hedlund|Hugh Jackman|Roone...       Joe Wright   \n",
       "74    Tom Hardy|Gary Oldman|Noomi Rapace|Joel Kinnam...  Daniel Espinosa   \n",
       "...                                                 ...              ...   \n",
       "1882  David Arquette|Scott Caan|Oliver Platt|Rose Mc...    Brian Robbins   \n",
       "1885  Richard E. Grant|Jonathan Lipnicki|Jim Carter|...         Uli Edel   \n",
       "1886  Rene Russo|Jason Alexander|Piper Perabo|Randy ...      Des McAnuff   \n",
       "1887  Meg Ryan|Diane Keaton|Lisa Kudrow|Walter Matth...     Diane Keaton   \n",
       "1888  Susan Ward|Lori Heuring|Matthew Settle|Nathan ...     Mary Lambert   \n",
       "\n",
       "                                                tagline  \\\n",
       "51                           Sophistication Has a Name.   \n",
       "53                         We are no longer in control.   \n",
       "59    Based on the incredible true story that inspir...   \n",
       "64                        Every legend has a beginning.   \n",
       "74        How do you find a killer who doesnâ€™t exist?   \n",
       "...                                                 ...   \n",
       "1882       They're headed to the big time...face first.   \n",
       "1885  They're not just best friends, they're blood b...   \n",
       "1886            This summer it's not the same old bull.   \n",
       "1887                   Every family has a few hang-ups.   \n",
       "1888                       What would you do to get in?   \n",
       "\n",
       "                                               overview  runtime  \\\n",
       "51    Art dealer, Charles Mortdecai, searches for a ...      106   \n",
       "53    A man is released from prison to help American...      133   \n",
       "59    In the winter of 1820, the New England whaling...      122   \n",
       "64    Living a bleak existence at a London orphanage...      111   \n",
       "74    Set in Stalin-era Soviet Union, a disgraced MG...      137   \n",
       "...                                                 ...      ...   \n",
       "1882  Two slacker wrestling fans are devastated by t...      107   \n",
       "1885  Based on the popular books, the story tells of...       95   \n",
       "1886  Rocky and Bullwinkle have been living off the ...       88   \n",
       "1887  A trio of sisters bond over their ambivalence ...       94   \n",
       "1888  A mentally disturbed young woman takes a job a...      105   \n",
       "\n",
       "                                        genres  \\\n",
       "51                            Comedy|Adventure   \n",
       "53         Mystery|Crime|Action|Thriller|Drama   \n",
       "59     Thriller|Drama|Adventure|Action|History   \n",
       "64                    Adventure|Family|Fantasy   \n",
       "74                              Crime|Thriller   \n",
       "...                                        ...   \n",
       "1882                       Action|Comedy|Drama   \n",
       "1885                     Horror|Family|Foreign   \n",
       "1886  Adventure|Animation|Action|Comedy|Family   \n",
       "1887                              Comedy|Drama   \n",
       "1888                                  Thriller   \n",
       "\n",
       "                                   production_companies release_date  \\\n",
       "51    Lionsgate|Mad Chance|OddLot Entertainment|Huay...    1/21/2015   \n",
       "53    Universal Pictures|Forward Pass|Legendary Pict...    1/13/2015   \n",
       "59    Imagine Entertainment|Spring Creek Productions...   11/20/2015   \n",
       "64    Warner Bros.|Moving Picture Company (MPC)|Berl...    9/24/2015   \n",
       "74    Summit Entertainment|Scott Free Productions|Wo...    3/15/2015   \n",
       "...                                                 ...          ...   \n",
       "1882                 Bel Air Entertainment|Warner Bros.     4/7/2000   \n",
       "1885                                    New Line Cinema   10/27/2000   \n",
       "1886  Universal Pictures|Capella International|KC Me...    6/30/2000   \n",
       "1887  Laurence Mark Productions|Columbia Pictures Co...    2/16/2000   \n",
       "1888                              Warner Bros. Pictures    7/19/2000   \n",
       "\n",
       "      vote_average  release_year    profit  \n",
       "51             5.3          2015 -29581440  \n",
       "53             5.0          2015 -52247060  \n",
       "59             6.4          2015  -6179242  \n",
       "64             5.9          2015 -21611680  \n",
       "74             5.9          2015 -46675670  \n",
       "...            ...           ...       ...  \n",
       "1882           4.4          2000 -11627590  \n",
       "1885           6.4          2000  -8444012  \n",
       "1886           4.0          2000 -40865180  \n",
       "1887           5.2          2000  -3962091  \n",
       "1888           5.2          2000  -9782502  \n",
       "\n",
       "[411 rows x 15 columns]"
      ]
     },
     "metadata": {},
     "output_type": "display_data"
    }
   ],
   "source": [
    "data_less_nill = data[data['profit'] < 0]\n",
    "\n",
    "display(data_less_nill)"
   ]
  },
  {
   "cell_type": "code",
   "execution_count": 6,
   "metadata": {},
   "outputs": [
    {
     "ename": "NameError",
     "evalue": "name 'data_less_nill' is not defined",
     "output_type": "error",
     "traceback": [
      "\u001b[1;31m---------------------------------------------------------------------------\u001b[0m",
      "\u001b[1;31mNameError\u001b[0m                                 Traceback (most recent call last)",
      "\u001b[1;32m<ipython-input-6-18050c4e60c3>\u001b[0m in \u001b[0;36m<module>\u001b[1;34m\u001b[0m\n\u001b[1;32m----> 1\u001b[1;33m \u001b[0mdata_less_nill\u001b[0m\u001b[1;33m[\u001b[0m\u001b[0mdata_less_nill\u001b[0m\u001b[1;33m.\u001b[0m\u001b[0mproduction_companies\u001b[0m\u001b[1;33m.\u001b[0m\u001b[0mstr\u001b[0m\u001b[1;33m.\u001b[0m\u001b[0mcontains\u001b[0m\u001b[1;33m(\u001b[0m\u001b[1;34m'Paramount Pictures'\u001b[0m\u001b[1;33m)\u001b[0m\u001b[1;33m]\u001b[0m\u001b[1;33m.\u001b[0m\u001b[0msort_values\u001b[0m\u001b[1;33m(\u001b[0m\u001b[0mby\u001b[0m\u001b[1;33m=\u001b[0m\u001b[1;33m[\u001b[0m\u001b[1;34m'profit'\u001b[0m\u001b[1;33m]\u001b[0m\u001b[1;33m,\u001b[0m \u001b[0mascending\u001b[0m\u001b[1;33m=\u001b[0m\u001b[1;32mTrue\u001b[0m\u001b[1;33m)\u001b[0m\u001b[1;33m\u001b[0m\u001b[1;33m\u001b[0m\u001b[0m\n\u001b[0m",
      "\u001b[1;31mNameError\u001b[0m: name 'data_less_nill' is not defined"
     ]
    }
   ],
   "source": [
    "data_less_nill[data_less_nill.production_companies.str.contains('Paramount Pictures')].sort_values(by=['profit'], ascending=True)   "
   ]
  },
  {
   "cell_type": "code",
   "execution_count": 58,
   "metadata": {},
   "outputs": [],
   "source": [
    "answers['18'] = 'K-19: The Widowmaker'"
   ]
  },
  {
   "cell_type": "markdown",
   "metadata": {
    "colab_type": "text",
    "id": "vS8Ur6ddVp_u"
   },
   "source": [
    "# 19. Какой год стал самым успешным по суммарным кассовым сборам?"
   ]
  },
  {
   "cell_type": "code",
   "execution_count": 17,
   "metadata": {
    "colab": {},
    "colab_type": "code",
    "id": "Dnbt4GdIVp_v"
   },
   "outputs": [
    {
     "data": {
      "text/html": [
       "<div>\n",
       "<style scoped>\n",
       "    .dataframe tbody tr th:only-of-type {\n",
       "        vertical-align: middle;\n",
       "    }\n",
       "\n",
       "    .dataframe tbody tr th {\n",
       "        vertical-align: top;\n",
       "    }\n",
       "\n",
       "    .dataframe thead th {\n",
       "        text-align: right;\n",
       "    }\n",
       "</style>\n",
       "<table border=\"1\" class=\"dataframe\">\n",
       "  <thead>\n",
       "    <tr style=\"text-align: right;\">\n",
       "      <th></th>\n",
       "      <th>imdb_id</th>\n",
       "      <th>budget</th>\n",
       "      <th>revenue</th>\n",
       "      <th>original_title</th>\n",
       "      <th>cast</th>\n",
       "      <th>director</th>\n",
       "      <th>tagline</th>\n",
       "      <th>overview</th>\n",
       "      <th>runtime</th>\n",
       "      <th>genres</th>\n",
       "      <th>production_companies</th>\n",
       "      <th>release_date</th>\n",
       "      <th>vote_average</th>\n",
       "      <th>release_year</th>\n",
       "    </tr>\n",
       "  </thead>\n",
       "  <tbody>\n",
       "    <tr>\n",
       "      <th>1334</th>\n",
       "      <td>tt0320661</td>\n",
       "      <td>130000000</td>\n",
       "      <td>211643158</td>\n",
       "      <td>Kingdom of Heaven</td>\n",
       "      <td>Orlando Bloom|Eva Green|Jeremy Irons|Marton Cs...</td>\n",
       "      <td>Ridley Scott</td>\n",
       "      <td>Be without fear in the face of your enemies. S...</td>\n",
       "      <td>After his wife dies, a blacksmith named Balian...</td>\n",
       "      <td>144</td>\n",
       "      <td>Drama|Action|Adventure|History|War</td>\n",
       "      <td>Studio Babelsberg|Twentieth Century Fox Film C...</td>\n",
       "      <td>5/3/2005</td>\n",
       "      <td>6.4</td>\n",
       "      <td>2005</td>\n",
       "    </tr>\n",
       "    <tr>\n",
       "      <th>232</th>\n",
       "      <td>tt1043726</td>\n",
       "      <td>70000000</td>\n",
       "      <td>61279452</td>\n",
       "      <td>The Legend of Hercules</td>\n",
       "      <td>Kellan Lutz|Liam McIntyre|Gaia Weiss|Scott Adk...</td>\n",
       "      <td>Renny Harlin</td>\n",
       "      <td>Every Man Has a Destiny</td>\n",
       "      <td>In Ancient Greece 1200 B.C., a queen succumbs ...</td>\n",
       "      <td>99</td>\n",
       "      <td>Action|Adventure</td>\n",
       "      <td>Millennium Films</td>\n",
       "      <td>1/10/2014</td>\n",
       "      <td>4.4</td>\n",
       "      <td>2014</td>\n",
       "    </tr>\n",
       "    <tr>\n",
       "      <th>1416</th>\n",
       "      <td>tt0419294</td>\n",
       "      <td>15000000</td>\n",
       "      <td>12036149</td>\n",
       "      <td>The Three Burials of Melquiades Estrada</td>\n",
       "      <td>Tommy Lee Jones|Barry Pepper|Dwight Yoakam|Jan...</td>\n",
       "      <td>Tommy Lee Jones</td>\n",
       "      <td>Nobody is beyond redemption.</td>\n",
       "      <td>When brash Texas border officer Mike Norton (B...</td>\n",
       "      <td>121</td>\n",
       "      <td>Adventure|Crime|Drama|Mystery|Western</td>\n",
       "      <td>The Javelina Film Company|EuropaCorp</td>\n",
       "      <td>11/17/2005</td>\n",
       "      <td>6.7</td>\n",
       "      <td>2005</td>\n",
       "    </tr>\n",
       "    <tr>\n",
       "      <th>943</th>\n",
       "      <td>tt0307479</td>\n",
       "      <td>47000000</td>\n",
       "      <td>30002758</td>\n",
       "      <td>Solaris</td>\n",
       "      <td>George Clooney|Natascha McElhone|Viola Davis|J...</td>\n",
       "      <td>Steven Soderbergh</td>\n",
       "      <td>How far will you go for a second chance?</td>\n",
       "      <td>Upon arrival at the space station orbiting an ...</td>\n",
       "      <td>99</td>\n",
       "      <td>Drama|Science Fiction|Mystery|Romance</td>\n",
       "      <td>Twentieth Century Fox Film Corporation|Lightst...</td>\n",
       "      <td>11/27/2002</td>\n",
       "      <td>5.8</td>\n",
       "      <td>2002</td>\n",
       "    </tr>\n",
       "    <tr>\n",
       "      <th>1569</th>\n",
       "      <td>tt0343818</td>\n",
       "      <td>120000000</td>\n",
       "      <td>347234916</td>\n",
       "      <td>I, Robot</td>\n",
       "      <td>Will Smith|Bridget Moynahan|Alan Tudyk|James C...</td>\n",
       "      <td>Alex Proyas</td>\n",
       "      <td>Laws are made to be broken.</td>\n",
       "      <td>In the year 2035, where robots are common and ...</td>\n",
       "      <td>115</td>\n",
       "      <td>Action|Science Fiction</td>\n",
       "      <td>Twentieth Century Fox Film Corporation|Laurenc...</td>\n",
       "      <td>7/15/2004</td>\n",
       "      <td>6.6</td>\n",
       "      <td>2004</td>\n",
       "    </tr>\n",
       "    <tr>\n",
       "      <th>1286</th>\n",
       "      <td>tt0882977</td>\n",
       "      <td>35000000</td>\n",
       "      <td>42930462</td>\n",
       "      <td>Snitch</td>\n",
       "      <td>Dwayne Johnson|Barry Pepper|Jon Bernthal|Susan...</td>\n",
       "      <td>Ric Roman Waugh</td>\n",
       "      <td>How far would you go to save your son?</td>\n",
       "      <td>Construction company owner John Matthews learn...</td>\n",
       "      <td>112</td>\n",
       "      <td>Thriller|Drama</td>\n",
       "      <td>Front Street Productions|Participant Media|Ima...</td>\n",
       "      <td>2/21/2013</td>\n",
       "      <td>5.7</td>\n",
       "      <td>2013</td>\n",
       "    </tr>\n",
       "    <tr>\n",
       "      <th>861</th>\n",
       "      <td>tt1588334</td>\n",
       "      <td>10000000</td>\n",
       "      <td>4417580</td>\n",
       "      <td>Jeff, Who Lives at Home</td>\n",
       "      <td>Jason Segel|Ed Helms|Susan Sarandon|Judy Greer...</td>\n",
       "      <td>Mark Duplass|Jay Duplass</td>\n",
       "      <td>The first step to finding your destiny is leav...</td>\n",
       "      <td>Dispatched from his basement room on an errand...</td>\n",
       "      <td>83</td>\n",
       "      <td>Drama|Comedy</td>\n",
       "      <td>Indian Paintbrush</td>\n",
       "      <td>9/13/2011</td>\n",
       "      <td>5.9</td>\n",
       "      <td>2011</td>\n",
       "    </tr>\n",
       "    <tr>\n",
       "      <th>1480</th>\n",
       "      <td>tt0418689</td>\n",
       "      <td>90000000</td>\n",
       "      <td>65900249</td>\n",
       "      <td>Flags of Our Fathers</td>\n",
       "      <td>Ryan Phillippe|Adam Beach|Jesse Bradford|John ...</td>\n",
       "      <td>Clint Eastwood</td>\n",
       "      <td>They fight for their country but they die for ...</td>\n",
       "      <td>There were five Marines and one Navy Corpsman ...</td>\n",
       "      <td>132</td>\n",
       "      <td>War|Drama|History</td>\n",
       "      <td>DreamWorks SKG|Amblin Entertainment|Malpaso Pr...</td>\n",
       "      <td>10/19/2006</td>\n",
       "      <td>6.7</td>\n",
       "      <td>2006</td>\n",
       "    </tr>\n",
       "    <tr>\n",
       "      <th>104</th>\n",
       "      <td>tt3623726</td>\n",
       "      <td>18000000</td>\n",
       "      <td>41325328</td>\n",
       "      <td>Ricki and the Flash</td>\n",
       "      <td>Meryl Streep|Kevin Kline|Mamie Gummer|Sebastia...</td>\n",
       "      <td>Jonathan Demme</td>\n",
       "      <td>Get Ready for Ricki.</td>\n",
       "      <td>Meryl Streep stars as Ricki Rendazzo, a guitar...</td>\n",
       "      <td>100</td>\n",
       "      <td>Comedy|Drama|Music</td>\n",
       "      <td>Columbia TriStar|Clinica Estetico|LStar Capital</td>\n",
       "      <td>7/10/2015</td>\n",
       "      <td>5.5</td>\n",
       "      <td>2015</td>\n",
       "    </tr>\n",
       "    <tr>\n",
       "      <th>1377</th>\n",
       "      <td>tt0376105</td>\n",
       "      <td>30000000</td>\n",
       "      <td>93772522</td>\n",
       "      <td>Racing Stripes</td>\n",
       "      <td>Frankie Muniz|Mandy Moore|Hayden Panettiere|Br...</td>\n",
       "      <td>Frederik Du Chau</td>\n",
       "      <td>Cheer 'til you're horse!</td>\n",
       "      <td>Shattered illusions are hard to repair -- espe...</td>\n",
       "      <td>102</td>\n",
       "      <td>Comedy</td>\n",
       "      <td>Alcon Entertainment</td>\n",
       "      <td>1/6/2005</td>\n",
       "      <td>5.1</td>\n",
       "      <td>2005</td>\n",
       "    </tr>\n",
       "  </tbody>\n",
       "</table>\n",
       "</div>"
      ],
      "text/plain": [
       "        imdb_id     budget    revenue  \\\n",
       "1334  tt0320661  130000000  211643158   \n",
       "232   tt1043726   70000000   61279452   \n",
       "1416  tt0419294   15000000   12036149   \n",
       "943   tt0307479   47000000   30002758   \n",
       "1569  tt0343818  120000000  347234916   \n",
       "1286  tt0882977   35000000   42930462   \n",
       "861   tt1588334   10000000    4417580   \n",
       "1480  tt0418689   90000000   65900249   \n",
       "104   tt3623726   18000000   41325328   \n",
       "1377  tt0376105   30000000   93772522   \n",
       "\n",
       "                               original_title  \\\n",
       "1334                        Kingdom of Heaven   \n",
       "232                    The Legend of Hercules   \n",
       "1416  The Three Burials of Melquiades Estrada   \n",
       "943                                   Solaris   \n",
       "1569                                 I, Robot   \n",
       "1286                                   Snitch   \n",
       "861                   Jeff, Who Lives at Home   \n",
       "1480                     Flags of Our Fathers   \n",
       "104                       Ricki and the Flash   \n",
       "1377                           Racing Stripes   \n",
       "\n",
       "                                                   cast  \\\n",
       "1334  Orlando Bloom|Eva Green|Jeremy Irons|Marton Cs...   \n",
       "232   Kellan Lutz|Liam McIntyre|Gaia Weiss|Scott Adk...   \n",
       "1416  Tommy Lee Jones|Barry Pepper|Dwight Yoakam|Jan...   \n",
       "943   George Clooney|Natascha McElhone|Viola Davis|J...   \n",
       "1569  Will Smith|Bridget Moynahan|Alan Tudyk|James C...   \n",
       "1286  Dwayne Johnson|Barry Pepper|Jon Bernthal|Susan...   \n",
       "861   Jason Segel|Ed Helms|Susan Sarandon|Judy Greer...   \n",
       "1480  Ryan Phillippe|Adam Beach|Jesse Bradford|John ...   \n",
       "104   Meryl Streep|Kevin Kline|Mamie Gummer|Sebastia...   \n",
       "1377  Frankie Muniz|Mandy Moore|Hayden Panettiere|Br...   \n",
       "\n",
       "                      director  \\\n",
       "1334              Ridley Scott   \n",
       "232               Renny Harlin   \n",
       "1416           Tommy Lee Jones   \n",
       "943          Steven Soderbergh   \n",
       "1569               Alex Proyas   \n",
       "1286           Ric Roman Waugh   \n",
       "861   Mark Duplass|Jay Duplass   \n",
       "1480            Clint Eastwood   \n",
       "104             Jonathan Demme   \n",
       "1377          Frederik Du Chau   \n",
       "\n",
       "                                                tagline  \\\n",
       "1334  Be without fear in the face of your enemies. S...   \n",
       "232                             Every Man Has a Destiny   \n",
       "1416                       Nobody is beyond redemption.   \n",
       "943            How far will you go for a second chance?   \n",
       "1569                        Laws are made to be broken.   \n",
       "1286             How far would you go to save your son?   \n",
       "861   The first step to finding your destiny is leav...   \n",
       "1480  They fight for their country but they die for ...   \n",
       "104                                Get Ready for Ricki.   \n",
       "1377                           Cheer 'til you're horse!   \n",
       "\n",
       "                                               overview  runtime  \\\n",
       "1334  After his wife dies, a blacksmith named Balian...      144   \n",
       "232   In Ancient Greece 1200 B.C., a queen succumbs ...       99   \n",
       "1416  When brash Texas border officer Mike Norton (B...      121   \n",
       "943   Upon arrival at the space station orbiting an ...       99   \n",
       "1569  In the year 2035, where robots are common and ...      115   \n",
       "1286  Construction company owner John Matthews learn...      112   \n",
       "861   Dispatched from his basement room on an errand...       83   \n",
       "1480  There were five Marines and one Navy Corpsman ...      132   \n",
       "104   Meryl Streep stars as Ricki Rendazzo, a guitar...      100   \n",
       "1377  Shattered illusions are hard to repair -- espe...      102   \n",
       "\n",
       "                                     genres  \\\n",
       "1334     Drama|Action|Adventure|History|War   \n",
       "232                        Action|Adventure   \n",
       "1416  Adventure|Crime|Drama|Mystery|Western   \n",
       "943   Drama|Science Fiction|Mystery|Romance   \n",
       "1569                 Action|Science Fiction   \n",
       "1286                         Thriller|Drama   \n",
       "861                            Drama|Comedy   \n",
       "1480                      War|Drama|History   \n",
       "104                      Comedy|Drama|Music   \n",
       "1377                                 Comedy   \n",
       "\n",
       "                                   production_companies release_date  \\\n",
       "1334  Studio Babelsberg|Twentieth Century Fox Film C...     5/3/2005   \n",
       "232                                    Millennium Films    1/10/2014   \n",
       "1416               The Javelina Film Company|EuropaCorp   11/17/2005   \n",
       "943   Twentieth Century Fox Film Corporation|Lightst...   11/27/2002   \n",
       "1569  Twentieth Century Fox Film Corporation|Laurenc...    7/15/2004   \n",
       "1286  Front Street Productions|Participant Media|Ima...    2/21/2013   \n",
       "861                                   Indian Paintbrush    9/13/2011   \n",
       "1480  DreamWorks SKG|Amblin Entertainment|Malpaso Pr...   10/19/2006   \n",
       "104     Columbia TriStar|Clinica Estetico|LStar Capital    7/10/2015   \n",
       "1377                                Alcon Entertainment     1/6/2005   \n",
       "\n",
       "      vote_average  release_year  \n",
       "1334           6.4          2005  \n",
       "232            4.4          2014  \n",
       "1416           6.7          2005  \n",
       "943            5.8          2002  \n",
       "1569           6.6          2004  \n",
       "1286           5.7          2013  \n",
       "861            5.9          2011  \n",
       "1480           6.7          2006  \n",
       "104            5.5          2015  \n",
       "1377           5.1          2005  "
      ]
     },
     "execution_count": 17,
     "metadata": {},
     "output_type": "execute_result"
    }
   ],
   "source": [
    "data = pd.read_csv('C:\\Python\\Millinaire\\movie_bd_v5.csv')\n",
    "data.sample(10)"
   ]
  },
  {
   "cell_type": "code",
   "execution_count": 38,
   "metadata": {},
   "outputs": [
    {
     "data": {
      "text/plain": [
       "2015"
      ]
     },
     "metadata": {},
     "output_type": "display_data"
    }
   ],
   "source": [
    "data_max_cash=data.groupby('release_year')['revenue'].sum().sort_values(ascending=False).idxmax()\n",
    "display(data_max_cash)"
   ]
  },
  {
   "cell_type": "code",
   "execution_count": 59,
   "metadata": {},
   "outputs": [],
   "source": [
    "answers['19'] = '2015'"
   ]
  },
  {
   "cell_type": "markdown",
   "metadata": {
    "colab_type": "text",
    "id": "JAzJh4QAVp_z"
   },
   "source": [
    "# 20. Какой самый прибыльный год для студии Warner Bros?"
   ]
  },
  {
   "cell_type": "code",
   "execution_count": 19,
   "metadata": {
    "colab": {},
    "colab_type": "code",
    "id": "wgVu02DEVp_0"
   },
   "outputs": [
    {
     "data": {
      "text/html": [
       "<div>\n",
       "<style scoped>\n",
       "    .dataframe tbody tr th:only-of-type {\n",
       "        vertical-align: middle;\n",
       "    }\n",
       "\n",
       "    .dataframe tbody tr th {\n",
       "        vertical-align: top;\n",
       "    }\n",
       "\n",
       "    .dataframe thead th {\n",
       "        text-align: right;\n",
       "    }\n",
       "</style>\n",
       "<table border=\"1\" class=\"dataframe\">\n",
       "  <thead>\n",
       "    <tr style=\"text-align: right;\">\n",
       "      <th></th>\n",
       "      <th>imdb_id</th>\n",
       "      <th>budget</th>\n",
       "      <th>revenue</th>\n",
       "      <th>original_title</th>\n",
       "      <th>cast</th>\n",
       "      <th>director</th>\n",
       "      <th>tagline</th>\n",
       "      <th>overview</th>\n",
       "      <th>runtime</th>\n",
       "      <th>genres</th>\n",
       "      <th>production_companies</th>\n",
       "      <th>release_date</th>\n",
       "      <th>vote_average</th>\n",
       "      <th>release_year</th>\n",
       "      <th>profit</th>\n",
       "    </tr>\n",
       "  </thead>\n",
       "  <tbody>\n",
       "    <tr>\n",
       "      <th>1857</th>\n",
       "      <td>tt0177971</td>\n",
       "      <td>120000000</td>\n",
       "      <td>325756637</td>\n",
       "      <td>The Perfect Storm</td>\n",
       "      <td>George Clooney|Mark Wahlberg|Diane Lane|John C...</td>\n",
       "      <td>Wolfgang Petersen</td>\n",
       "      <td>The storm is coming.</td>\n",
       "      <td>In October 1991, a confluence of weather condi...</td>\n",
       "      <td>130</td>\n",
       "      <td>Drama</td>\n",
       "      <td>Warner Bros.|Baltimore Spring Creek Production...</td>\n",
       "      <td>3/15/2000</td>\n",
       "      <td>5.9</td>\n",
       "      <td>2000</td>\n",
       "      <td>205756637</td>\n",
       "    </tr>\n",
       "    <tr>\n",
       "      <th>1843</th>\n",
       "      <td>tt0186566</td>\n",
       "      <td>65000000</td>\n",
       "      <td>128884132</td>\n",
       "      <td>Space Cowboys</td>\n",
       "      <td>Clint Eastwood|Tommy Lee Jones|Donald Sutherla...</td>\n",
       "      <td>Clint Eastwood</td>\n",
       "      <td>Space will never be the same.</td>\n",
       "      <td>Frank Corvin, â€˜Hawkâ€™ Hawkins, Jerry O'Neil...</td>\n",
       "      <td>130</td>\n",
       "      <td>Action|Adventure|Thriller</td>\n",
       "      <td>Village Roadshow Pictures|Malpaso Productions|...</td>\n",
       "      <td>7/31/2000</td>\n",
       "      <td>6.2</td>\n",
       "      <td>2000</td>\n",
       "      <td>63884132</td>\n",
       "    </tr>\n",
       "    <tr>\n",
       "      <th>1827</th>\n",
       "      <td>tt0223897</td>\n",
       "      <td>40000000</td>\n",
       "      <td>55707411</td>\n",
       "      <td>Pay It Forward</td>\n",
       "      <td>Kevin Spacey|Helen Hunt|Haley Joel Osment|Jay ...</td>\n",
       "      <td>Mimi Leder</td>\n",
       "      <td>When someone does you a big favor, don't pay i...</td>\n",
       "      <td>Like some other kids, 12-year-old Trevor McKin...</td>\n",
       "      <td>122</td>\n",
       "      <td>Drama|Romance</td>\n",
       "      <td>Bel Air Entertainment|Warner Bros.</td>\n",
       "      <td>10/12/2000</td>\n",
       "      <td>6.8</td>\n",
       "      <td>2000</td>\n",
       "      <td>15707411</td>\n",
       "    </tr>\n",
       "    <tr>\n",
       "      <th>1825</th>\n",
       "      <td>tt0212346</td>\n",
       "      <td>45000000</td>\n",
       "      <td>212000000</td>\n",
       "      <td>Miss Congeniality</td>\n",
       "      <td>Sandra Bullock|Benjamin Bratt|Michael Caine|Ca...</td>\n",
       "      <td>Donald Petrie</td>\n",
       "      <td>Never Mess With An Agent In A Dress.</td>\n",
       "      <td>Gracie Hart is a tough-as-nails FBI officer. W...</td>\n",
       "      <td>111</td>\n",
       "      <td>Comedy|Crime|Action</td>\n",
       "      <td>Village Roadshow Pictures|Castle Rock Entertai...</td>\n",
       "      <td>12/14/2000</td>\n",
       "      <td>6.1</td>\n",
       "      <td>2000</td>\n",
       "      <td>167000000</td>\n",
       "    </tr>\n",
       "    <tr>\n",
       "      <th>1815</th>\n",
       "      <td>tt0165929</td>\n",
       "      <td>25000000</td>\n",
       "      <td>91036760</td>\n",
       "      <td>Romeo Must Die</td>\n",
       "      <td>Jet Li|Aaliyah|Isaiah Washington|Russell Wong|DMX</td>\n",
       "      <td>Andrzej Bartkowiak</td>\n",
       "      <td>In the city ruled by criminals, two families h...</td>\n",
       "      <td>Two warring gang families (one African-America...</td>\n",
       "      <td>115</td>\n",
       "      <td>Action|Crime|Thriller</td>\n",
       "      <td>Silver Pictures|Warner Bros.</td>\n",
       "      <td>3/20/2000</td>\n",
       "      <td>5.8</td>\n",
       "      <td>2000</td>\n",
       "      <td>66036760</td>\n",
       "    </tr>\n",
       "    <tr>\n",
       "      <th>...</th>\n",
       "      <td>...</td>\n",
       "      <td>...</td>\n",
       "      <td>...</td>\n",
       "      <td>...</td>\n",
       "      <td>...</td>\n",
       "      <td>...</td>\n",
       "      <td>...</td>\n",
       "      <td>...</td>\n",
       "      <td>...</td>\n",
       "      <td>...</td>\n",
       "      <td>...</td>\n",
       "      <td>...</td>\n",
       "      <td>...</td>\n",
       "      <td>...</td>\n",
       "      <td>...</td>\n",
       "    </tr>\n",
       "    <tr>\n",
       "      <th>93</th>\n",
       "      <td>tt2268016</td>\n",
       "      <td>14800000</td>\n",
       "      <td>122413057</td>\n",
       "      <td>Magic Mike XXL</td>\n",
       "      <td>Channing Tatum|Matt Bomer|Joe Manganiello|Kevi...</td>\n",
       "      <td>Gregory Jacobs</td>\n",
       "      <td>Back to the grind.</td>\n",
       "      <td>Three years after Mike bowed out of the stripp...</td>\n",
       "      <td>115</td>\n",
       "      <td>Comedy|Drama|Music</td>\n",
       "      <td>Warner Bros.|Iron Horse Entertainment (II)</td>\n",
       "      <td>7/1/2015</td>\n",
       "      <td>6.3</td>\n",
       "      <td>2015</td>\n",
       "      <td>107613057</td>\n",
       "    </tr>\n",
       "    <tr>\n",
       "      <th>98</th>\n",
       "      <td>tt3369806</td>\n",
       "      <td>20000000</td>\n",
       "      <td>43967255</td>\n",
       "      <td>Max</td>\n",
       "      <td>Thomas Haden Church|Josh Wiggins|Lauren Graham...</td>\n",
       "      <td>Boaz Yakin</td>\n",
       "      <td>Best Friend. Hero. Marine.</td>\n",
       "      <td>A dog that helped soldiers in Afghanistan retu...</td>\n",
       "      <td>111</td>\n",
       "      <td>Adventure|Drama|Family</td>\n",
       "      <td>Sunswept Entertainment|Warner Bros.|Metro-Gold...</td>\n",
       "      <td>6/26/2015</td>\n",
       "      <td>7.0</td>\n",
       "      <td>2015</td>\n",
       "      <td>23967255</td>\n",
       "    </tr>\n",
       "    <tr>\n",
       "      <th>107</th>\n",
       "      <td>tt2561572</td>\n",
       "      <td>40000000</td>\n",
       "      <td>106511453</td>\n",
       "      <td>Get Hard</td>\n",
       "      <td>Will Ferrell|Kevin Hart|Alison Brie|Craig T. N...</td>\n",
       "      <td>Etan Cohen</td>\n",
       "      <td>An education in incarceration.</td>\n",
       "      <td>When obscenely rich hedge-fund manager James i...</td>\n",
       "      <td>100</td>\n",
       "      <td>Comedy</td>\n",
       "      <td>Gary Sanchez Productions|Warner Bros.</td>\n",
       "      <td>3/26/2015</td>\n",
       "      <td>5.9</td>\n",
       "      <td>2015</td>\n",
       "      <td>66511453</td>\n",
       "    </tr>\n",
       "    <tr>\n",
       "      <th>82</th>\n",
       "      <td>tt1674771</td>\n",
       "      <td>30000000</td>\n",
       "      <td>49263404</td>\n",
       "      <td>Entourage</td>\n",
       "      <td>Jeremy Piven|Adrian Grenier|Jerry Ferrara|Kevi...</td>\n",
       "      <td>Doug Ellin</td>\n",
       "      <td>Dream Large. Live Larger.</td>\n",
       "      <td>Movie star Vincent Chase, together with his bo...</td>\n",
       "      <td>104</td>\n",
       "      <td>Comedy</td>\n",
       "      <td>Warner Bros.|Closest to the Hole Productions</td>\n",
       "      <td>6/3/2015</td>\n",
       "      <td>6.2</td>\n",
       "      <td>2015</td>\n",
       "      <td>19263404</td>\n",
       "    </tr>\n",
       "    <tr>\n",
       "      <th>11</th>\n",
       "      <td>tt1617661</td>\n",
       "      <td>176000003</td>\n",
       "      <td>183987723</td>\n",
       "      <td>Jupiter Ascending</td>\n",
       "      <td>Mila Kunis|Channing Tatum|Sean Bean|Eddie Redm...</td>\n",
       "      <td>Lana Wachowski|Lilly Wachowski</td>\n",
       "      <td>Expand your universe.</td>\n",
       "      <td>In a universe where human genetic material is ...</td>\n",
       "      <td>124</td>\n",
       "      <td>Science Fiction|Fantasy|Action|Adventure</td>\n",
       "      <td>Village Roadshow Pictures|Dune Entertainment|A...</td>\n",
       "      <td>2/4/2015</td>\n",
       "      <td>5.2</td>\n",
       "      <td>2015</td>\n",
       "      <td>7987720</td>\n",
       "    </tr>\n",
       "  </tbody>\n",
       "</table>\n",
       "<p>143 rows × 15 columns</p>\n",
       "</div>"
      ],
      "text/plain": [
       "        imdb_id     budget    revenue     original_title  \\\n",
       "1857  tt0177971  120000000  325756637  The Perfect Storm   \n",
       "1843  tt0186566   65000000  128884132      Space Cowboys   \n",
       "1827  tt0223897   40000000   55707411     Pay It Forward   \n",
       "1825  tt0212346   45000000  212000000  Miss Congeniality   \n",
       "1815  tt0165929   25000000   91036760     Romeo Must Die   \n",
       "...         ...        ...        ...                ...   \n",
       "93    tt2268016   14800000  122413057     Magic Mike XXL   \n",
       "98    tt3369806   20000000   43967255                Max   \n",
       "107   tt2561572   40000000  106511453           Get Hard   \n",
       "82    tt1674771   30000000   49263404          Entourage   \n",
       "11    tt1617661  176000003  183987723  Jupiter Ascending   \n",
       "\n",
       "                                                   cast  \\\n",
       "1857  George Clooney|Mark Wahlberg|Diane Lane|John C...   \n",
       "1843  Clint Eastwood|Tommy Lee Jones|Donald Sutherla...   \n",
       "1827  Kevin Spacey|Helen Hunt|Haley Joel Osment|Jay ...   \n",
       "1825  Sandra Bullock|Benjamin Bratt|Michael Caine|Ca...   \n",
       "1815  Jet Li|Aaliyah|Isaiah Washington|Russell Wong|DMX   \n",
       "...                                                 ...   \n",
       "93    Channing Tatum|Matt Bomer|Joe Manganiello|Kevi...   \n",
       "98    Thomas Haden Church|Josh Wiggins|Lauren Graham...   \n",
       "107   Will Ferrell|Kevin Hart|Alison Brie|Craig T. N...   \n",
       "82    Jeremy Piven|Adrian Grenier|Jerry Ferrara|Kevi...   \n",
       "11    Mila Kunis|Channing Tatum|Sean Bean|Eddie Redm...   \n",
       "\n",
       "                            director  \\\n",
       "1857               Wolfgang Petersen   \n",
       "1843                  Clint Eastwood   \n",
       "1827                      Mimi Leder   \n",
       "1825                   Donald Petrie   \n",
       "1815              Andrzej Bartkowiak   \n",
       "...                              ...   \n",
       "93                    Gregory Jacobs   \n",
       "98                        Boaz Yakin   \n",
       "107                       Etan Cohen   \n",
       "82                        Doug Ellin   \n",
       "11    Lana Wachowski|Lilly Wachowski   \n",
       "\n",
       "                                                tagline  \\\n",
       "1857                               The storm is coming.   \n",
       "1843                      Space will never be the same.   \n",
       "1827  When someone does you a big favor, don't pay i...   \n",
       "1825               Never Mess With An Agent In A Dress.   \n",
       "1815  In the city ruled by criminals, two families h...   \n",
       "...                                                 ...   \n",
       "93                                   Back to the grind.   \n",
       "98                           Best Friend. Hero. Marine.   \n",
       "107                      An education in incarceration.   \n",
       "82                            Dream Large. Live Larger.   \n",
       "11                                Expand your universe.   \n",
       "\n",
       "                                               overview  runtime  \\\n",
       "1857  In October 1991, a confluence of weather condi...      130   \n",
       "1843  Frank Corvin, â€˜Hawkâ€™ Hawkins, Jerry O'Neil...      130   \n",
       "1827  Like some other kids, 12-year-old Trevor McKin...      122   \n",
       "1825  Gracie Hart is a tough-as-nails FBI officer. W...      111   \n",
       "1815  Two warring gang families (one African-America...      115   \n",
       "...                                                 ...      ...   \n",
       "93    Three years after Mike bowed out of the stripp...      115   \n",
       "98    A dog that helped soldiers in Afghanistan retu...      111   \n",
       "107   When obscenely rich hedge-fund manager James i...      100   \n",
       "82    Movie star Vincent Chase, together with his bo...      104   \n",
       "11    In a universe where human genetic material is ...      124   \n",
       "\n",
       "                                        genres  \\\n",
       "1857                                     Drama   \n",
       "1843                 Action|Adventure|Thriller   \n",
       "1827                             Drama|Romance   \n",
       "1825                       Comedy|Crime|Action   \n",
       "1815                     Action|Crime|Thriller   \n",
       "...                                        ...   \n",
       "93                          Comedy|Drama|Music   \n",
       "98                      Adventure|Drama|Family   \n",
       "107                                     Comedy   \n",
       "82                                      Comedy   \n",
       "11    Science Fiction|Fantasy|Action|Adventure   \n",
       "\n",
       "                                   production_companies release_date  \\\n",
       "1857  Warner Bros.|Baltimore Spring Creek Production...    3/15/2000   \n",
       "1843  Village Roadshow Pictures|Malpaso Productions|...    7/31/2000   \n",
       "1827                 Bel Air Entertainment|Warner Bros.   10/12/2000   \n",
       "1825  Village Roadshow Pictures|Castle Rock Entertai...   12/14/2000   \n",
       "1815                       Silver Pictures|Warner Bros.    3/20/2000   \n",
       "...                                                 ...          ...   \n",
       "93           Warner Bros.|Iron Horse Entertainment (II)     7/1/2015   \n",
       "98    Sunswept Entertainment|Warner Bros.|Metro-Gold...    6/26/2015   \n",
       "107               Gary Sanchez Productions|Warner Bros.    3/26/2015   \n",
       "82         Warner Bros.|Closest to the Hole Productions     6/3/2015   \n",
       "11    Village Roadshow Pictures|Dune Entertainment|A...     2/4/2015   \n",
       "\n",
       "      vote_average  release_year     profit  \n",
       "1857           5.9          2000  205756637  \n",
       "1843           6.2          2000   63884132  \n",
       "1827           6.8          2000   15707411  \n",
       "1825           6.1          2000  167000000  \n",
       "1815           5.8          2000   66036760  \n",
       "...            ...           ...        ...  \n",
       "93             6.3          2015  107613057  \n",
       "98             7.0          2015   23967255  \n",
       "107            5.9          2015   66511453  \n",
       "82             6.2          2015   19263404  \n",
       "11             5.2          2015    7987720  \n",
       "\n",
       "[143 rows x 15 columns]"
      ]
     },
     "metadata": {},
     "output_type": "display_data"
    }
   ],
   "source": [
    "data_WB=data_more_nill[data_more_nill.production_companies.str.contains('Warner')].sort_values(by=['release_year'],ascending=True) \n",
    "display(data_WB)"
   ]
  },
  {
   "cell_type": "code",
   "execution_count": 61,
   "metadata": {},
   "outputs": [
    {
     "ename": "NameError",
     "evalue": "name 'data_WB' is not defined",
     "output_type": "error",
     "traceback": [
      "\u001b[1;31m---------------------------------------------------------------------------\u001b[0m",
      "\u001b[1;31mNameError\u001b[0m                                 Traceback (most recent call last)",
      "\u001b[1;32m<ipython-input-61-8677237e98d6>\u001b[0m in \u001b[0;36m<module>\u001b[1;34m\u001b[0m\n\u001b[1;32m----> 1\u001b[1;33m \u001b[0mmax_cash_WB\u001b[0m \u001b[1;33m=\u001b[0m \u001b[0mdata_WB\u001b[0m\u001b[1;33m.\u001b[0m\u001b[0mgroupby\u001b[0m\u001b[1;33m(\u001b[0m\u001b[1;34m'release_year'\u001b[0m\u001b[1;33m)\u001b[0m\u001b[1;33m[\u001b[0m\u001b[1;34m'profit'\u001b[0m\u001b[1;33m]\u001b[0m\u001b[1;33m.\u001b[0m\u001b[0msum\u001b[0m\u001b[1;33m(\u001b[0m\u001b[1;33m)\u001b[0m\u001b[1;33m.\u001b[0m\u001b[0msort_values\u001b[0m\u001b[1;33m(\u001b[0m\u001b[0mascending\u001b[0m\u001b[1;33m=\u001b[0m\u001b[1;32mFalse\u001b[0m\u001b[1;33m)\u001b[0m\u001b[1;33m.\u001b[0m\u001b[0midxmax\u001b[0m\u001b[1;33m(\u001b[0m\u001b[1;33m)\u001b[0m\u001b[1;33m\u001b[0m\u001b[1;33m\u001b[0m\u001b[0m\n\u001b[0m\u001b[0;32m      2\u001b[0m \u001b[0mdisplay\u001b[0m\u001b[1;33m(\u001b[0m\u001b[0mmax_cash_WB\u001b[0m\u001b[1;33m)\u001b[0m\u001b[1;33m\u001b[0m\u001b[1;33m\u001b[0m\u001b[0m\n",
      "\u001b[1;31mNameError\u001b[0m: name 'data_WB' is not defined"
     ]
    }
   ],
   "source": [
    "max_cash_WB = data_WB.groupby('release_year')['profit'].sum().sort_values(ascending=False).idxmax()\n",
    "display(max_cash_WB)"
   ]
  },
  {
   "cell_type": "code",
   "execution_count": 62,
   "metadata": {},
   "outputs": [],
   "source": [
    "answers['20'] = '2014'"
   ]
  },
  {
   "cell_type": "markdown",
   "metadata": {
    "colab_type": "text",
    "id": "8Im1S2HRVp_4"
   },
   "source": [
    "# 21. В каком месяце за все годы суммарно вышло больше всего фильмов?"
   ]
  },
  {
   "cell_type": "code",
   "execution_count": 21,
   "metadata": {
    "colab": {},
    "colab_type": "code",
    "id": "lev6TH7gVp_4"
   },
   "outputs": [
    {
     "data": {
      "text/html": [
       "<div>\n",
       "<style scoped>\n",
       "    .dataframe tbody tr th:only-of-type {\n",
       "        vertical-align: middle;\n",
       "    }\n",
       "\n",
       "    .dataframe tbody tr th {\n",
       "        vertical-align: top;\n",
       "    }\n",
       "\n",
       "    .dataframe thead th {\n",
       "        text-align: right;\n",
       "    }\n",
       "</style>\n",
       "<table border=\"1\" class=\"dataframe\">\n",
       "  <thead>\n",
       "    <tr style=\"text-align: right;\">\n",
       "      <th></th>\n",
       "      <th>imdb_id</th>\n",
       "      <th>budget</th>\n",
       "      <th>revenue</th>\n",
       "      <th>original_title</th>\n",
       "      <th>cast</th>\n",
       "      <th>director</th>\n",
       "      <th>tagline</th>\n",
       "      <th>overview</th>\n",
       "      <th>runtime</th>\n",
       "      <th>genres</th>\n",
       "      <th>production_companies</th>\n",
       "      <th>release_date</th>\n",
       "      <th>vote_average</th>\n",
       "      <th>release_year</th>\n",
       "    </tr>\n",
       "  </thead>\n",
       "  <tbody>\n",
       "    <tr>\n",
       "      <th>758</th>\n",
       "      <td>tt1568911</td>\n",
       "      <td>66000000</td>\n",
       "      <td>177584879</td>\n",
       "      <td>War Horse</td>\n",
       "      <td>Tom Hiddleston|Benedict Cumberbatch|Toby Kebbe...</td>\n",
       "      <td>Steven Spielberg</td>\n",
       "      <td>Separated by War. Tested by Battle. Bound by F...</td>\n",
       "      <td>Follows a young man named Albert and his horse...</td>\n",
       "      <td>146</td>\n",
       "      <td>Drama|War</td>\n",
       "      <td>DreamWorks SKG|Amblin Entertainment|Reliance E...</td>\n",
       "      <td>12/25/2011</td>\n",
       "      <td>6.9</td>\n",
       "      <td>2011</td>\n",
       "    </tr>\n",
       "    <tr>\n",
       "      <th>626</th>\n",
       "      <td>tt1059786</td>\n",
       "      <td>80000000</td>\n",
       "      <td>178066569</td>\n",
       "      <td>Eagle Eye</td>\n",
       "      <td>Shia LaBeouf|Michelle Monaghan|Rosario Dawson|...</td>\n",
       "      <td>D.J. Caruso</td>\n",
       "      <td>Don't walk. Run.</td>\n",
       "      <td>Jerry Shaw (Shia LaBeouf) and Rachel Holloman ...</td>\n",
       "      <td>118</td>\n",
       "      <td>Mystery|Thriller|Action</td>\n",
       "      <td>DreamWorks SKG|K/O Paper Products|Goldcrest Pi...</td>\n",
       "      <td>9/25/2008</td>\n",
       "      <td>6.2</td>\n",
       "      <td>2008</td>\n",
       "    </tr>\n",
       "    <tr>\n",
       "      <th>1163</th>\n",
       "      <td>tt0295289</td>\n",
       "      <td>20000000</td>\n",
       "      <td>17432163</td>\n",
       "      <td>A Guy Thing</td>\n",
       "      <td>Jason Lee|Julia Stiles|Selma Blair|James Broli...</td>\n",
       "      <td>Chris Koch</td>\n",
       "      <td>Boy meets girl. Boy meets girl's cousin.</td>\n",
       "      <td>Paul Morse is a good guy. When his friends thr...</td>\n",
       "      <td>101</td>\n",
       "      <td>Comedy|Romance</td>\n",
       "      <td>Metro-Goldwyn-Mayer (MGM)|David Ladd Films</td>\n",
       "      <td>1/17/2003</td>\n",
       "      <td>5.3</td>\n",
       "      <td>2003</td>\n",
       "    </tr>\n",
       "    <tr>\n",
       "      <th>201</th>\n",
       "      <td>tt1085492</td>\n",
       "      <td>18000000</td>\n",
       "      <td>266586800</td>\n",
       "      <td>The Prince</td>\n",
       "      <td>Bruce Willis|Jason Patric|John Cusack|Jessica ...</td>\n",
       "      <td>Brian A Miller</td>\n",
       "      <td>Mercy is for the Weak</td>\n",
       "      <td>A family man who turns out to be a retired mob...</td>\n",
       "      <td>93</td>\n",
       "      <td>Thriller|Action</td>\n",
       "      <td>Grindstone Entertainment Group|Emmett/Furla Fi...</td>\n",
       "      <td>8/22/2014</td>\n",
       "      <td>4.6</td>\n",
       "      <td>2014</td>\n",
       "    </tr>\n",
       "    <tr>\n",
       "      <th>1070</th>\n",
       "      <td>tt1840417</td>\n",
       "      <td>6000000</td>\n",
       "      <td>13231461</td>\n",
       "      <td>The Words</td>\n",
       "      <td>Bradley Cooper|Zoe Saldana|Jeremy Irons|Dennis...</td>\n",
       "      <td>Brian Klugman|Lee Sternthal</td>\n",
       "      <td>There's more than one way to take a life.</td>\n",
       "      <td>The Words follows young writer Rory Jansen who...</td>\n",
       "      <td>96</td>\n",
       "      <td>Drama|Thriller</td>\n",
       "      <td>Serenade Films|CBS Films|Also Known As Pictures</td>\n",
       "      <td>9/7/2012</td>\n",
       "      <td>6.3</td>\n",
       "      <td>2012</td>\n",
       "    </tr>\n",
       "    <tr>\n",
       "      <th>607</th>\n",
       "      <td>tt0795421</td>\n",
       "      <td>52000000</td>\n",
       "      <td>609841637</td>\n",
       "      <td>Mamma Mia!</td>\n",
       "      <td>Meryl Streep|Pierce Brosnan|Amanda Seyfried|Co...</td>\n",
       "      <td>Phyllida Lloyd</td>\n",
       "      <td>Take a trip down the aisle you'll never forget</td>\n",
       "      <td>Set on an idyllic Greek island, the plot serve...</td>\n",
       "      <td>108</td>\n",
       "      <td>Comedy|Romance</td>\n",
       "      <td>Universal Pictures|Internationale Filmprodukti...</td>\n",
       "      <td>6/30/2008</td>\n",
       "      <td>6.2</td>\n",
       "      <td>2008</td>\n",
       "    </tr>\n",
       "    <tr>\n",
       "      <th>665</th>\n",
       "      <td>tt0852713</td>\n",
       "      <td>25000000</td>\n",
       "      <td>70442940</td>\n",
       "      <td>The House Bunny</td>\n",
       "      <td>Anna Faris|Emma Stone|Kat Dennings|Katharine M...</td>\n",
       "      <td>Fred Wolf</td>\n",
       "      <td>For the girls of ZETA house college life was n...</td>\n",
       "      <td>Shelley is living a carefree life until a riva...</td>\n",
       "      <td>97</td>\n",
       "      <td>Romance|Comedy</td>\n",
       "      <td>Columbia Pictures|Happy Madison Productions|Re...</td>\n",
       "      <td>8/22/2008</td>\n",
       "      <td>5.6</td>\n",
       "      <td>2008</td>\n",
       "    </tr>\n",
       "    <tr>\n",
       "      <th>1111</th>\n",
       "      <td>tt0327056</td>\n",
       "      <td>25000000</td>\n",
       "      <td>156822020</td>\n",
       "      <td>Mystic River</td>\n",
       "      <td>Sean Penn|Tim Robbins|Kevin Bacon|Marcia Gay H...</td>\n",
       "      <td>Clint Eastwood</td>\n",
       "      <td>We bury our sins, we wash them clean.</td>\n",
       "      <td>A story about friendship and loyalty, guilt an...</td>\n",
       "      <td>138</td>\n",
       "      <td>Thriller|Crime|Drama|Mystery</td>\n",
       "      <td>Village Roadshow Pictures|Malpaso Productions|...</td>\n",
       "      <td>10/7/2003</td>\n",
       "      <td>7.4</td>\n",
       "      <td>2003</td>\n",
       "    </tr>\n",
       "    <tr>\n",
       "      <th>711</th>\n",
       "      <td>tt0805570</td>\n",
       "      <td>15000000</td>\n",
       "      <td>3533227</td>\n",
       "      <td>The Midnight Meat Train</td>\n",
       "      <td>Bradley Cooper|Vinnie Jones|Brooke Shields|Les...</td>\n",
       "      <td>RyÃ»hei Kitamura</td>\n",
       "      <td>The most terrifying ride you'll ever take</td>\n",
       "      <td>The photographer Leon lives with his girlfrien...</td>\n",
       "      <td>98</td>\n",
       "      <td>Mystery|Drama|Crime|Thriller|Horror</td>\n",
       "      <td>Lions Gate Films|Lakeshore Entertainment|Green...</td>\n",
       "      <td>8/7/2008</td>\n",
       "      <td>5.7</td>\n",
       "      <td>2008</td>\n",
       "    </tr>\n",
       "    <tr>\n",
       "      <th>166</th>\n",
       "      <td>tt2883512</td>\n",
       "      <td>11000000</td>\n",
       "      <td>45967935</td>\n",
       "      <td>Chef</td>\n",
       "      <td>Jon Favreau|John Leguizamo|Bobby Cannavale|Emj...</td>\n",
       "      <td>Jon Favreau</td>\n",
       "      <td>Starting from scratch never tasted so good</td>\n",
       "      <td>A chef who loses his restaurant job starts up ...</td>\n",
       "      <td>115</td>\n",
       "      <td>Comedy</td>\n",
       "      <td>Open Road Films|Aldamisa Entertainment|Kilburn...</td>\n",
       "      <td>5/8/2014</td>\n",
       "      <td>7.2</td>\n",
       "      <td>2014</td>\n",
       "    </tr>\n",
       "  </tbody>\n",
       "</table>\n",
       "</div>"
      ],
      "text/plain": [
       "        imdb_id    budget    revenue           original_title  \\\n",
       "758   tt1568911  66000000  177584879                War Horse   \n",
       "626   tt1059786  80000000  178066569                Eagle Eye   \n",
       "1163  tt0295289  20000000   17432163              A Guy Thing   \n",
       "201   tt1085492  18000000  266586800               The Prince   \n",
       "1070  tt1840417   6000000   13231461                The Words   \n",
       "607   tt0795421  52000000  609841637               Mamma Mia!   \n",
       "665   tt0852713  25000000   70442940          The House Bunny   \n",
       "1111  tt0327056  25000000  156822020             Mystic River   \n",
       "711   tt0805570  15000000    3533227  The Midnight Meat Train   \n",
       "166   tt2883512  11000000   45967935                     Chef   \n",
       "\n",
       "                                                   cast  \\\n",
       "758   Tom Hiddleston|Benedict Cumberbatch|Toby Kebbe...   \n",
       "626   Shia LaBeouf|Michelle Monaghan|Rosario Dawson|...   \n",
       "1163  Jason Lee|Julia Stiles|Selma Blair|James Broli...   \n",
       "201   Bruce Willis|Jason Patric|John Cusack|Jessica ...   \n",
       "1070  Bradley Cooper|Zoe Saldana|Jeremy Irons|Dennis...   \n",
       "607   Meryl Streep|Pierce Brosnan|Amanda Seyfried|Co...   \n",
       "665   Anna Faris|Emma Stone|Kat Dennings|Katharine M...   \n",
       "1111  Sean Penn|Tim Robbins|Kevin Bacon|Marcia Gay H...   \n",
       "711   Bradley Cooper|Vinnie Jones|Brooke Shields|Les...   \n",
       "166   Jon Favreau|John Leguizamo|Bobby Cannavale|Emj...   \n",
       "\n",
       "                         director  \\\n",
       "758              Steven Spielberg   \n",
       "626                   D.J. Caruso   \n",
       "1163                   Chris Koch   \n",
       "201                Brian A Miller   \n",
       "1070  Brian Klugman|Lee Sternthal   \n",
       "607                Phyllida Lloyd   \n",
       "665                     Fred Wolf   \n",
       "1111               Clint Eastwood   \n",
       "711              RyÃ»hei Kitamura   \n",
       "166                   Jon Favreau   \n",
       "\n",
       "                                                tagline  \\\n",
       "758   Separated by War. Tested by Battle. Bound by F...   \n",
       "626                                    Don't walk. Run.   \n",
       "1163           Boy meets girl. Boy meets girl's cousin.   \n",
       "201                               Mercy is for the Weak   \n",
       "1070          There's more than one way to take a life.   \n",
       "607      Take a trip down the aisle you'll never forget   \n",
       "665   For the girls of ZETA house college life was n...   \n",
       "1111              We bury our sins, we wash them clean.   \n",
       "711           The most terrifying ride you'll ever take   \n",
       "166          Starting from scratch never tasted so good   \n",
       "\n",
       "                                               overview  runtime  \\\n",
       "758   Follows a young man named Albert and his horse...      146   \n",
       "626   Jerry Shaw (Shia LaBeouf) and Rachel Holloman ...      118   \n",
       "1163  Paul Morse is a good guy. When his friends thr...      101   \n",
       "201   A family man who turns out to be a retired mob...       93   \n",
       "1070  The Words follows young writer Rory Jansen who...       96   \n",
       "607   Set on an idyllic Greek island, the plot serve...      108   \n",
       "665   Shelley is living a carefree life until a riva...       97   \n",
       "1111  A story about friendship and loyalty, guilt an...      138   \n",
       "711   The photographer Leon lives with his girlfrien...       98   \n",
       "166   A chef who loses his restaurant job starts up ...      115   \n",
       "\n",
       "                                   genres  \\\n",
       "758                             Drama|War   \n",
       "626               Mystery|Thriller|Action   \n",
       "1163                       Comedy|Romance   \n",
       "201                       Thriller|Action   \n",
       "1070                       Drama|Thriller   \n",
       "607                        Comedy|Romance   \n",
       "665                        Romance|Comedy   \n",
       "1111         Thriller|Crime|Drama|Mystery   \n",
       "711   Mystery|Drama|Crime|Thriller|Horror   \n",
       "166                                Comedy   \n",
       "\n",
       "                                   production_companies release_date  \\\n",
       "758   DreamWorks SKG|Amblin Entertainment|Reliance E...   12/25/2011   \n",
       "626   DreamWorks SKG|K/O Paper Products|Goldcrest Pi...    9/25/2008   \n",
       "1163         Metro-Goldwyn-Mayer (MGM)|David Ladd Films    1/17/2003   \n",
       "201   Grindstone Entertainment Group|Emmett/Furla Fi...    8/22/2014   \n",
       "1070    Serenade Films|CBS Films|Also Known As Pictures     9/7/2012   \n",
       "607   Universal Pictures|Internationale Filmprodukti...    6/30/2008   \n",
       "665   Columbia Pictures|Happy Madison Productions|Re...    8/22/2008   \n",
       "1111  Village Roadshow Pictures|Malpaso Productions|...    10/7/2003   \n",
       "711   Lions Gate Films|Lakeshore Entertainment|Green...     8/7/2008   \n",
       "166   Open Road Films|Aldamisa Entertainment|Kilburn...     5/8/2014   \n",
       "\n",
       "      vote_average  release_year  \n",
       "758            6.9          2011  \n",
       "626            6.2          2008  \n",
       "1163           5.3          2003  \n",
       "201            4.6          2014  \n",
       "1070           6.3          2012  \n",
       "607            6.2          2008  \n",
       "665            5.6          2008  \n",
       "1111           7.4          2003  \n",
       "711            5.7          2008  \n",
       "166            7.2          2014  "
      ]
     },
     "execution_count": 21,
     "metadata": {},
     "output_type": "execute_result"
    }
   ],
   "source": [
    "data = pd.read_csv('C:\\Python\\Millinaire\\movie_bd_v5.csv')\n",
    "data.sample(10)"
   ]
  },
  {
   "cell_type": "code",
   "execution_count": 16,
   "metadata": {},
   "outputs": [
    {
     "data": {
      "text/plain": [
       "9"
      ]
     },
     "execution_count": 16,
     "metadata": {},
     "output_type": "execute_result"
    }
   ],
   "source": [
    "pd.DatetimeIndex(data['release_date']).month.value_counts().idxmax()"
   ]
  },
  {
   "cell_type": "code",
   "execution_count": 63,
   "metadata": {},
   "outputs": [],
   "source": [
    "answers['21'] = '9'"
   ]
  },
  {
   "cell_type": "markdown",
   "metadata": {
    "colab_type": "text",
    "id": "uAJsZ_NeVp_7"
   },
   "source": [
    "# 22. Сколько суммарно вышло фильмов летом? (за июнь, июль, август)"
   ]
  },
  {
   "cell_type": "code",
   "execution_count": 17,
   "metadata": {
    "colab": {},
    "colab_type": "code",
    "id": "Aa-hEREoVp_8"
   },
   "outputs": [
    {
     "data": {
      "text/plain": [
       "9     227\n",
       "12    190\n",
       "10    186\n",
       "8     161\n",
       "3     156\n",
       "4     149\n",
       "6     147\n",
       "11    146\n",
       "7     142\n",
       "5     140\n",
       "2     135\n",
       "1     110\n",
       "Name: release_date, dtype: int64"
      ]
     },
     "execution_count": 17,
     "metadata": {},
     "output_type": "execute_result"
    }
   ],
   "source": [
    "pd.DatetimeIndex(data['release_date']).month.value_counts()"
   ]
  },
  {
   "cell_type": "code",
   "execution_count": 64,
   "metadata": {},
   "outputs": [],
   "source": [
    "answers['22'] = '450'"
   ]
  },
  {
   "cell_type": "markdown",
   "metadata": {
    "colab_type": "text",
    "id": "G94ppOY1VqAA"
   },
   "source": [
    "# 23. Для какого режиссера зима – самое продуктивное время года? "
   ]
  },
  {
   "cell_type": "code",
   "execution_count": 20,
   "metadata": {
    "colab": {},
    "colab_type": "code",
    "id": "RhNTsamuVqAB"
   },
   "outputs": [
    {
     "data": {
      "text/plain": [
       "Peter Jackson        7\n",
       "Steven Soderbergh    6\n",
       "Clint Eastwood       6\n",
       "Adam Shankman        4\n",
       "Nancy Meyers         4\n",
       "                    ..\n",
       "McG                  1\n",
       "Iain Softley         1\n",
       "John Erick Dowdle    1\n",
       "Clare Kilner         1\n",
       "Alex Garland         1\n",
       "Name: director, Length: 358, dtype: int64"
      ]
     },
     "execution_count": 20,
     "metadata": {},
     "output_type": "execute_result"
    }
   ],
   "source": [
    "mov_wint = data.copy()\n",
    "mov_wint['release_date'] = pd.to_datetime(mov_wint['release_date'])\n",
    "mov_wint[mov_wint.release_date.dt.month.isin([1, 2, 12,])].director.str.split('|').explode('director').value_counts()"
   ]
  },
  {
   "cell_type": "code",
   "execution_count": 65,
   "metadata": {},
   "outputs": [],
   "source": [
    "answers['23'] = 'Peter Jackson'"
   ]
  },
  {
   "cell_type": "markdown",
   "metadata": {
    "colab_type": "text",
    "id": "RBo0JVjVVqAF"
   },
   "source": [
    "# 24. Какая студия дает самые длинные названия своим фильмам по количеству символов?"
   ]
  },
  {
   "cell_type": "code",
   "execution_count": 39,
   "metadata": {
    "colab": {},
    "colab_type": "code",
    "id": "QRGS8L0iVqAG"
   },
   "outputs": [
    {
     "data": {
      "text/plain": [
       "Four By Two Productions      83.0\n",
       "Jim Henson Company, The      59.0\n",
       "Dos Corazones                47.0\n",
       "Museum Canada Productions    46.0\n",
       "Polsky Films                 46.0\n",
       "dtype: float64"
      ]
     },
     "execution_count": 39,
     "metadata": {},
     "output_type": "execute_result"
    }
   ],
   "source": [
    "data['title_length'] = data['original_title'].map(lambda x: len(x))\n",
    "companies = data['production_companies'].str.split('|').explode().unique()\n",
    "for comp in companies:\n",
    "    sum_gen[comp] = data['title_length'][data['production_companies'].map(lambda x: True if comp in x else False)].mean()\n",
    "sum_gen.sort_values(ascending=False).head()"
   ]
  },
  {
   "cell_type": "code",
   "execution_count": 66,
   "metadata": {},
   "outputs": [],
   "source": [
    "answers['24'] = 'Four By Two Productions'"
   ]
  },
  {
   "cell_type": "markdown",
   "metadata": {
    "colab_type": "text",
    "id": "9G0hbvR7VqAK"
   },
   "source": [
    "# 25. Описание фильмов какой студии в среднем самые длинные по количеству слов?"
   ]
  },
  {
   "cell_type": "code",
   "execution_count": 9,
   "metadata": {
    "colab": {},
    "colab_type": "code",
    "id": "Ge2GsLNxVqAK"
   },
   "outputs": [
    {
     "data": {
      "text/plain": [
       "production_companies\n",
       "Midnight Picture Show                    175.0\n",
       "Room 9 Entertainment                     161.0\n",
       "Heineken Branded Entertainment           161.0\n",
       "98 MPH Productions                       159.0\n",
       "Brookwell-McNamara Entertainment         156.0\n",
       "                                         ...  \n",
       "London Boulevard                          13.0\n",
       "Phantom Four                              13.0\n",
       "Henceforth                                13.0\n",
       "Empire Pictures                           11.0\n",
       "Motion Picture Corporation of America     11.0\n",
       "Name: overview_length, Length: 1771, dtype: float64"
      ]
     },
     "execution_count": 9,
     "metadata": {},
     "output_type": "execute_result"
    }
   ],
   "source": [
    "data_max_words = data.copy()\n",
    "data_max_words['overview_length'] = data_max_words['overview'].str.split(' ').str.len()\n",
    "data_max_words.production_companies = data_max_words.production_companies.str.split('|')\n",
    "data_max_words = data_max_words.explode('production_companies')\n",
    "data_max_words.groupby('production_companies')['overview_length'].mean().sort_values(ascending=False)"
   ]
  },
  {
   "cell_type": "code",
   "execution_count": 67,
   "metadata": {},
   "outputs": [],
   "source": [
    "answers['25'] = 'Midnight Picture Show'"
   ]
  },
  {
   "cell_type": "markdown",
   "metadata": {
    "colab_type": "text",
    "id": "FJ1AFt90VqAP"
   },
   "source": [
    "# 26. Какие фильмы входят в 1 процент лучших по рейтингу? \n",
    "по vote_average"
   ]
  },
  {
   "cell_type": "code",
   "execution_count": 34,
   "metadata": {
    "colab": {},
    "colab_type": "code",
    "id": "8qmJVq4CVqAQ"
   },
   "outputs": [
    {
     "data": {
      "text/plain": [
       "599                                       The Dark Knight\n",
       "9                                              Inside Out\n",
       "34                                                   Room\n",
       "118                                          Interstellar\n",
       "125                                    The Imitation Game\n",
       "370                                             Inception\n",
       "1191                                     12 Years a Slave\n",
       "1183                              The Wolf of Wall Street\n",
       "1081        The Lord of the Rings: The Return of the King\n",
       "872                                           The Pianist\n",
       "1800                                              Memento\n",
       "119                               Guardians of the Galaxy\n",
       "138                              The Grand Budapest Hotel\n",
       "128                                             Gone Girl\n",
       "283                                            Mr. Nobody\n",
       "1688                                  There Will Be Blood\n",
       "1563                Eternal Sunshine of the Spotless Mind\n",
       "1444                                         The Prestige\n",
       "1213                                   Dallas Buyers Club\n",
       "1205                                            Prisoners\n",
       "124                                            Big Hero 6\n",
       "1188                                                  Her\n",
       "316                                              3 Idiots\n",
       "863                 The Lord of the Rings: The Two Towers\n",
       "155                              The Theory of Everything\n",
       "28                                              Spotlight\n",
       "177                                The Fault in Our Stars\n",
       "496     The Lord of the Rings: The Fellowship of the Ring\n",
       "Name: original_title, dtype: object"
      ]
     },
     "execution_count": 34,
     "metadata": {},
     "output_type": "execute_result"
    }
   ],
   "source": [
    "data = pd.read_csv('C:\\Python\\Millinaire\\movie_bd_v5.csv')\n",
    "df = data['vote_average'].value_counts(bins=100, ascending = False)\n",
    "border = np.quantile(data.vote_average, 0.99)\n",
    "data[data.vote_average >= border].sort_values(by='vote_average', ascending=False)['original_title']"
   ]
  },
  {
   "cell_type": "code",
   "execution_count": 68,
   "metadata": {},
   "outputs": [],
   "source": [
    "answers['26'] = 'Midnight Picture Show'"
   ]
  },
  {
   "cell_type": "markdown",
   "metadata": {
    "colab_type": "text",
    "id": "MdXsUXbCVqAV"
   },
   "source": [
    "# 27. Какие актеры чаще всего снимаются в одном фильме вместе?\n"
   ]
  },
  {
   "cell_type": "code",
   "execution_count": 76,
   "metadata": {},
   "outputs": [],
   "source": [
    "from collections import Counter"
   ]
  },
  {
   "cell_type": "code",
   "execution_count": 77,
   "metadata": {},
   "outputs": [],
   "source": [
    "from itertools import combinations"
   ]
  },
  {
   "cell_type": "code",
   "execution_count": 78,
   "metadata": {},
   "outputs": [
    {
     "data": {
      "text/plain": [
       "[(('Daniel Radcliffe', 'Rupert Grint'), 8),\n",
       " (('Daniel Radcliffe', 'Emma Watson'), 8),\n",
       " (('Rupert Grint', 'Emma Watson'), 7),\n",
       " (('Ben Stiller', 'Owen Wilson'), 6),\n",
       " (('Johnny Depp', 'Helena Bonham Carter'), 6)]"
      ]
     },
     "execution_count": 78,
     "metadata": {},
     "output_type": "execute_result"
    }
   ],
   "source": [
    "data = pd.read_csv('C:\\Python\\Millinaire\\movie_bd_v5.csv')\n",
    "pairs = Counter()\n",
    "for i in range(0,len(data)):\n",
    "    artists = data.cast[i].split('|')\n",
    "    for j in list(combinations(artists, 2)):\n",
    "        if j not in pairs:\n",
    "            pairs[j] = 1\n",
    "        else:\n",
    "            pairs[j] += 1\n",
    "pairs.most_common(5)"
   ]
  },
  {
   "cell_type": "code",
   "execution_count": 79,
   "metadata": {},
   "outputs": [],
   "source": [
    "answers['27'] = 'Daniel Radcliffe', 'Rupert Grint'"
   ]
  },
  {
   "cell_type": "markdown",
   "metadata": {
    "colab_type": "text",
    "id": "4ymnxEVoVqAW"
   },
   "source": [
    "ВАРИАНТ 2"
   ]
  },
  {
   "cell_type": "markdown",
   "metadata": {
    "colab_type": "text",
    "id": "U0nONFnGVqAX"
   },
   "source": [
    "# Submission"
   ]
  },
  {
   "cell_type": "code",
   "execution_count": 0,
   "metadata": {
    "colab": {},
    "colab_type": "code",
    "id": "IfcaRO9-VqAX",
    "outputId": "0f132912-32bb-4196-c98c-abfbc4ad5a5f"
   },
   "outputs": [
    {
     "data": {
      "text/plain": [
       "{'1': '...', '2': '...'}"
      ]
     },
     "execution_count": 8,
     "metadata": {
      "tags": []
     },
     "output_type": "execute_result"
    }
   ],
   "source": [
    "# в конце можно посмотреть свои ответы к каждому вопросу\n",
    "answers"
   ]
  },
  {
   "cell_type": "code",
   "execution_count": 0,
   "metadata": {
    "colab": {},
    "colab_type": "code",
    "id": "SiRmHPl8VqAd"
   },
   "outputs": [],
   "source": [
    "# и убедиться что ни чего не пропустил)\n",
    "len(answers)"
   ]
  },
  {
   "cell_type": "code",
   "execution_count": 80,
   "metadata": {
    "colab": {},
    "colab_type": "code",
    "id": "uCfuTkRbVqAg"
   },
   "outputs": [
    {
     "data": {
      "text/plain": [
       "{'1': 'irates of the Caribbean: On Stranger Tides',\n",
       " '2': 'Gods and Generals',\n",
       " '3': 'Winnie the Pooh',\n",
       " '4': '109.6',\n",
       " '5': '107.0',\n",
       " '6': 'Avatar',\n",
       " '7': 'The Lone Ranger',\n",
       " '8': '1478',\n",
       " '9': 'The Dark Knight',\n",
       " '10': 'The Lone Ranger',\n",
       " '11': 'Drama',\n",
       " '12': 'Drama',\n",
       " '13': 'Peter Jackson',\n",
       " '14': 'Robert Rodriguez',\n",
       " '15': 'Chris Evans',\n",
       " '16': 'Matt Damon',\n",
       " '17': 'Action',\n",
       " '18': 'K-19: The Widowmaker',\n",
       " '19': '2015',\n",
       " '20': '2014',\n",
       " '21': '9',\n",
       " '22': '450',\n",
       " '23': 'Peter Jackson',\n",
       " '24': 'Four By Two Productions',\n",
       " '25': 'Midnight Picture Show',\n",
       " '26': 'Midnight Picture Show',\n",
       " '27': ('Daniel Radcliffe', 'Rupert Grint')}"
      ]
     },
     "execution_count": 80,
     "metadata": {},
     "output_type": "execute_result"
    }
   ],
   "source": [
    "answers"
   ]
  },
  {
   "cell_type": "code",
   "execution_count": 0,
   "metadata": {
    "colab": {},
    "colab_type": "code",
    "id": "Vwx3NrkSVqAl"
   },
   "outputs": [],
   "source": []
  }
 ],
 "metadata": {
  "colab": {
   "name": "Copy of [SF-DST] Movies IMBD v4.1 TEMPLATE.ipynb",
   "provenance": []
  },
  "kernelspec": {
   "display_name": "Python 3",
   "language": "python",
   "name": "python3"
  },
  "language_info": {
   "codemirror_mode": {
    "name": "ipython",
    "version": 3
   },
   "file_extension": ".py",
   "mimetype": "text/x-python",
   "name": "python",
   "nbconvert_exporter": "python",
   "pygments_lexer": "ipython3",
   "version": "3.8.5"
  }
 },
 "nbformat": 4,
 "nbformat_minor": 1
}
